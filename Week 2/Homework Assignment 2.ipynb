{
 "cells": [
  {
   "cell_type": "markdown",
   "metadata": {},
   "source": [
    "Before you turn this problem in, make sure everything runs as expected. First, **restart the kernel** (in the menubar, select Kernel$\\rightarrow$Restart) and then **run all cells** (in the menubar, select Cell$\\rightarrow$Run All).\n",
    "\n",
    "Make sure you fill in any place that says `YOUR CODE HERE` or \"YOUR ANSWER HERE\", as well as your name and collaborators below:"
   ]
  },
  {
   "cell_type": "code",
   "execution_count": 2,
   "metadata": {},
   "outputs": [],
   "source": [
    "NAME = \"Daniël Vink\"\n",
    "COLLABORATORS = \"Sam Kuilboer\""
   ]
  },
  {
   "cell_type": "markdown",
   "metadata": {
    "deletable": false,
    "editable": false,
    "nbgrader": {
     "cell_type": "markdown",
     "checksum": "b654779fd1e07660ee9040748a45c822",
     "grade": false,
     "grade_id": "cell-2b750b36b629bca4",
     "locked": true,
     "schema_version": 3,
     "solution": false,
     "task": false
    }
   },
   "source": [
    "---\n",
    "# Homework set 2"
   ]
  },
  {
   "cell_type": "markdown",
   "metadata": {
    "deletable": false,
    "editable": false,
    "nbgrader": {
     "cell_type": "markdown",
     "checksum": "a9787e9089b1ce6573ede5ca4859755c",
     "grade": false,
     "grade_id": "cell-83825325139a7870",
     "locked": true,
     "schema_version": 3,
     "solution": false,
     "task": false
    }
   },
   "source": [
    "# Exercise 0\n",
    "Write down the names + student ID of the people in your group."
   ]
  },
  {
   "cell_type": "markdown",
   "metadata": {
    "deletable": false,
    "nbgrader": {
     "cell_type": "markdown",
     "checksum": "ce773beeedf2878578755c4d5158a99c",
     "grade": true,
     "grade_id": "cell-629562588dd70ec7",
     "locked": false,
     "points": 0,
     "schema_version": 3,
     "solution": true,
     "task": false
    }
   },
   "source": [
    "Daniël Vink - 10675140 \n",
    "Sam Kuilboer - 12442690"
   ]
  },
  {
   "cell_type": "markdown",
   "metadata": {
    "deletable": false,
    "editable": false,
    "nbgrader": {
     "cell_type": "markdown",
     "checksum": "9be04587fb7e5cb7b60d658cd3953fa3",
     "grade": false,
     "grade_id": "cell-4f5d0e698cfd8edb",
     "locked": true,
     "schema_version": 3,
     "solution": false,
     "task": false
    }
   },
   "source": [
    "Run the following cell to import the nessecary packages."
   ]
  },
  {
   "cell_type": "code",
<<<<<<< HEAD
   "execution_count": 33,
   "metadata": {},
   "outputs": [],
   "source": [
    "%matplotlib inline\n",
=======
   "execution_count": 26,
   "metadata": {},
   "outputs": [],
   "source": [
    "import scipy as sp\n",
>>>>>>> d93bb49ae9ecc43781bd16c00ba2ec14b8c83165
    "import scipy.linalg as la\n",
    "import numpy as np\n",
    "import matplotlib.pyplot as plt"
   ]
  },
  {
   "cell_type": "markdown",
   "metadata": {
    "deletable": false,
    "editable": false,
    "nbgrader": {
     "cell_type": "markdown",
     "checksum": "236c54fa66cc884cbc2250b72b0c5b1d",
     "grade": false,
     "grade_id": "cell-072e3c5da42a861f",
     "locked": true,
     "schema_version": 3,
     "solution": false,
     "task": false
    }
   },
   "source": [
    "-----\n",
    "# Exercise 1 (2.1 on the Exercise sheet)\n",
    "\n",
    "##### NOTE: You may also submit Exercise 1 as a pdf of your handwritten solutions if you prefer. If so, indicate this where you would put your answers below"
   ]
  },
  {
   "cell_type": "markdown",
   "metadata": {
    "deletable": false,
    "editable": false,
    "nbgrader": {
     "cell_type": "markdown",
     "checksum": "9a50bd11f56e4ff93a3a3f5d9c5a8012",
     "grade": false,
     "grade_id": "cell-306494218416f215",
     "locked": true,
     "schema_version": 3,
     "solution": false,
     "task": false
    }
   },
   "source": [
    "## (a) 1 point\n",
    "Let $A$ be the matrix $\\begin{bmatrix} 1 & -1 & \\alpha \\\\ 2 & 2 & 1 \\\\ 0 & \\alpha & -3/2 \\end{bmatrix}$. For which values of $\\alpha$ is $A$ singular?"
   ]
  },
  {
   "cell_type": "markdown",
   "metadata": {
    "deletable": false,
    "nbgrader": {
     "cell_type": "markdown",
     "checksum": "6f565c8300533b6526b848adcdc26ca9",
     "grade": true,
     "grade_id": "cell-3d33896a965d92eb",
     "locked": false,
     "points": 1,
     "schema_version": 3,
     "solution": true,
     "task": false
    }
   },
   "source": [
    "### Answer:\n",
    "\n",
    "A matrix is singular when the Det(A) = 0\n",
    "\n",
    "$Det(A) = 0$ \n",
    "  \n",
    "$Det(A) = (2 * -\\frac{3}{2} - \\alpha) - (-1)(2 * -\\frac{3}{2}) + \\alpha(2 \\alpha)$  \n",
    "  \n",
    "$-3-3- \\alpha + 2 \\alpha^2 = 0$\n",
    "  \n",
    "$\\alpha^2 - -\\frac{1}{2} \\alpha - 3 = 0 $\n",
    "\n",
    "$\\alpha = 2$ OR $\\alpha = -\\frac{3}{2}$\n"
   ]
  },
  {
   "cell_type": "markdown",
   "metadata": {
    "deletable": false,
    "editable": false,
    "nbgrader": {
     "cell_type": "markdown",
     "checksum": "159c12af7394fe143a6d9209a7b8425b",
     "grade": false,
     "grade_id": "cell-993d7ad099a6c517",
     "locked": true,
     "schema_version": 3,
     "solution": false,
     "task": false
    }
   },
   "source": [
    "## (b) 1 point\n",
    "Consider the following linear system of equations:\n",
    "$$\n",
    "\\begin{align*}\n",
    "2x + y + z & = 3 \\\\\n",
    "2x - y + 3z &= 5 \\\\\n",
    "-2x + \\alpha y + 3z &= 1.\n",
    "\\end{align*}\n",
    "$$\n",
    "For what values of $\\alpha$ does this system have an infinite number of solutions?"
   ]
  },
  {
   "cell_type": "markdown",
   "metadata": {
    "deletable": false,
    "nbgrader": {
     "cell_type": "markdown",
     "checksum": "c61c0f97e445ed0c974a29efa0f28fda",
     "grade": true,
     "grade_id": "cell-053e45d5469e3352",
     "locked": false,
     "points": 1,
     "schema_version": 3,
     "solution": true,
     "task": false
    }
   },
   "source": [
    "### Answer:\n",
    "\n",
    "A system can have an infinite number of solutions when the system is singular and consistent. We know a system is singular when the $det(A) = 0$ and it is consistent when its solution is a linear combination of the system.\n",
    "\n",
    "\n",
    "$det(A) = 0$ when: \\\n",
    "$(2*(-3 -3*\\alpha)) - (1*(6--6)) + (1*(2*\\alpha -2)) = 0$ \\\n",
    "$-6 -6*\\alpha -12 +2*\\alpha -2 = 0$ \\\n",
    "$-4*\\alpha -20 = 0$ \\\n",
    "$\\alpha = -5$\n",
    "\n",
    "If you fill in this value for alpha in the matrix A, and rewrite it in row-echelon form you get the following matrix:\\\n",
    "$\\begin{bmatrix}2 & 1 & 1 & 3\\\\ 2 & -1 & 3 & 5\\\\ -2 & -5 & 3 & 1\\end{bmatrix}$ \\\n",
    "If you then subtract row 1 from row 2, and add row 1 to row 3 you get:\\\n",
    "$\\begin{bmatrix}2 & 1 & 1 & 3\\\\ 0 & -2 & 2 & 2\\\\ 0 & -4 & 4 & 4\\end{bmatrix}$ \\\n",
    "From which it is clearly visible that row 2 and 3 are the same line, so the system is consistent. The final solution for the system is then:\\\n",
    "$\\begin{bmatrix}2-z \\\\ z-1 \\\\ z\\end{bmatrix}$"
   ]
  },
  {
   "cell_type": "markdown",
   "metadata": {
    "deletable": false,
    "editable": false,
    "nbgrader": {
     "cell_type": "markdown",
     "checksum": "db4d987555967c757cb021cd1f78b7df",
     "grade": false,
     "grade_id": "cell-d87d3f6d9564df45",
     "locked": true,
     "schema_version": 3,
     "solution": false,
     "task": false
    }
   },
   "source": [
    "## (c) 2 points\n",
    "Denote the columns of an $n \\times n$ matrix $A$ as $A_k$ for $k=1,\\ldots,n$. We define the function $||A||_* = \\max_k ||A_k||_2$. Show that $||A||_*$ is a norm, in that it satisfies the first three properties of a matrix norm (cf. §2.3.2)."
   ]
  },
  {
   "cell_type": "markdown",
   "metadata": {
    "deletable": false,
    "nbgrader": {
     "cell_type": "markdown",
     "checksum": "5be436de682d5b89b837349c8efc6150",
     "grade": true,
     "grade_id": "cell-85404d0ebae15448",
     "locked": false,
     "points": 2,
     "schema_version": 3,
     "solution": true,
     "task": false
    }
   },
   "source": [
    "The function $||A||_*$ is defined as the maximum result between the 2-norm of its n columns. The definition for the 2-norm of a vector is:\\\n",
    "$||x||_2 = \\sqrt(\\sum_i |x_i|^2)$ \\\n",
    "So for every element in the vector, its absolute value is squared and summed. This will always result in a positive number, unless all the elements in the vector are 0. So: for any matrix $A \\neq O$, which means any matrix that has at least 1 non-zero element, the maximum result between the 2-norm of all its column vectors will at least be higher than 0. The equation satisfies the first property of a matrix norm. \n",
    "\n",
    "Because the function $||A||_*$ is defined as the maximum result between the 2-norm of its n columns, if we want to calculate the result of a scalar multiplied matrix $\\gamma A$, we can rewrite the equation $||\\gamma A||_*$ as: \\\n",
    "$max_k ||\\gamma A_k||_2$ \\\n",
    "And since we know that for any vector norm it holds true that: \\\n",
    "$||\\gamma x|| = |\\gamma| * ||x||$ \\\n",
    "We can say it also holds true for our function and thus it satisfies the second property of a matrix norm.\n",
    "\n",
    "Lets define the matrix $A = B + C$. Because the function $||A||_*$ is defined as the maximum result between the 2-norm of its n columns, and the sum of two matrices $B$ and $C$ is defined as the element wise sum of these matrices, we know that if we calculate the 2-norm of the matrices $B$ and $C$ there are two options:\n",
    "* The largest 2-norm vector is the same column in $B$ and in $C$\n",
    "* The largest 2-norm vectors of $B$ and $C$ are different columns\n",
    "\n",
    "In the first case, the sum of the two 2-norms is equal to the 2-norm of the element-wise summed matrix $A$ because norms are calculated over the same values. In the second case, the element-wise addition of the matrices $B$ and $C$ means that the column of $B$ with the highest norm is added to a column of $C$ that has a lower or equal norm than the column of $C$ with the highest norm. That means that the result of our function of the matrix $A$ is either lower than or equal to the sum of the results of our function on the matrices $B$ and $C$. This means our function also satisfies the third property of a matrix norm. \n"
   ]
  },
  {
   "cell_type": "markdown",
   "metadata": {
    "deletable": false,
    "editable": false,
    "nbgrader": {
     "cell_type": "markdown",
     "checksum": "b479ad41889654378d2baf8f57567f97",
     "grade": false,
     "grade_id": "cell-f9b678556cbbca76",
     "locked": true,
     "schema_version": 3,
     "solution": false,
     "task": false
    }
   },
   "source": [
    "----\n",
    "# Exercise 2\n",
    "For solving linear systems such as $Ax = b$, it is unnecessary (and often unstable) to compute the inverse $A^{-1}$. Nonetheless, there can be situations where it is useful to compute $A^{-1}$ explicitly. One way to do so is by using the LU-decomposition of $A$."
   ]
  },
  {
   "cell_type": "markdown",
   "metadata": {
    "deletable": false,
    "editable": false,
    "nbgrader": {
     "cell_type": "markdown",
     "checksum": "565e3b2b1ee30b9dbdecfa831dac654f",
     "grade": false,
     "grade_id": "cell-2a60097255e3d1b5",
     "locked": true,
     "schema_version": 3,
     "solution": false,
     "task": false
    }
   },
   "source": [
    "## (a) 2 points\n",
    "Write an algorithm to compute $A^{-1}$ for a non-singular matrix $A$ using its LU-decomposition. You can use `scipy.linalg.lu` (which returns an LU-decomposition with _partial pivoting_, i.e., with a permutation matrix $P$) and the other `scipy.linalg.lu_*` functions, but not `scipy.linalg.inv` (or other methods for computing matrix inverses directly)."
   ]
  },
  {
   "cell_type": "code",
<<<<<<< HEAD
   "execution_count": 2,
=======
   "execution_count": 9,
>>>>>>> d93bb49ae9ecc43781bd16c00ba2ec14b8c83165
   "metadata": {
    "deletable": false,
    "nbgrader": {
     "cell_type": "code",
     "checksum": "b011ebd554ea10da4a53655bdadd6383",
     "grade": true,
     "grade_id": "cell-6f892d33e776e31f",
     "locked": false,
     "points": 2,
     "schema_version": 3,
     "solution": true,
     "task": false
    }
   },
   "outputs": [
    {
     "output_type": "stream",
     "name": "stdout",
     "text": [
      "[[  2   1   1]\n [  2  -1   3]\n [ -2 100   3]]\n[[ 0.72142857 -0.23095238 -0.00952381]\n [ 0.02857143 -0.01904762  0.00952381]\n [-0.47142857  0.48095238  0.00952381]]\n[[ 0.72142857 -0.23095238 -0.00952381]\n [ 0.02857143 -0.01904762  0.00952381]\n [-0.47142857  0.48095238  0.00952381]]\n"
     ]
    }
   ],
   "source": [
    "def invert(A):\n",
    "    ''' Calculates the inverse of a square input matrix by using its LU-decomposition.\n",
    "    It solves the equations Uz=I and Lx=z as substeps.\n",
    "    '''\n",
    "    n = np.shape(A)[0]\n",
    "    inverse = np.zeros((n, n))\n",
    "    identity = np.identity(n)\n",
    "    \n",
    "    P, L, U = la.lu(A) # LU-decomposition\n",
    "    \n",
    "    # For every column solve the subequations.\n",
    "    for i in range(n): \n",
    "        z = la.solve_triangular(L, identity[i], lower=True)\n",
    "        x = la.solve_triangular(U, z)\n",
    "        inverse[i] = x\n",
    "    # Result is transposed because calculations use rows.\n",
    "    return np.dot(inverse.T, P)\n",
    "\n",
    "\n",
    "matrix = np.array([[2,1,1], [2,-1,3], [-2, 100, 3]])\n",
    "\n",
    "print(matrix) # Input\n",
    "print(invert(matrix)) # Output\n",
    "print(la.inv(matrix)) # Test\n"
   ]
  },
  {
   "cell_type": "markdown",
   "metadata": {},
   "source": [
    "## (b) 1 point\n",
    "What is the computational complexity of your algorithm, given that the input matrix has size $n \\times n$?\n",
    "Give a short calculation/explanation for your answer."
   ]
  },
  {
   "cell_type": "markdown",
   "metadata": {
    "deletable": false,
    "nbgrader": {
     "cell_type": "markdown",
     "checksum": "2dd9d0b893218b8e70d7a0a66f09e514",
     "grade": true,
     "grade_id": "cell-a15cf95231b8aa77",
     "locked": false,
     "points": 1,
     "schema_version": 3,
     "solution": true,
     "task": false
    }
   },
   "source": [
    "Computational complexity is the amount of resources require to run the algorithm. In this case the complexity is equal to the amount of calculations, being:\n",
    "\n",
    "for size $n * n$ = $complexity(la.lu(n)) + 2 * complexity(la.solvetriangular(n))$\n",
    "\n",
    "The complexity of both la.lu and la.solvetriangular are exponential, leading to:\n",
    "\n",
    "for size $n *n$ = $n^2 + 2n^2$\n",
    "\n",
    "which is represented in the following plot:"
   ]
  },
  {
   "cell_type": "code",
   "execution_count": 1,
   "metadata": {},
   "outputs": [
    {
     "output_type": "error",
     "ename": "NameError",
     "evalue": "name 'plt' is not defined",
     "traceback": [
      "\u001b[1;31m---------------------------------------------------------------------------\u001b[0m",
      "\u001b[1;31mNameError\u001b[0m                                 Traceback (most recent call last)",
      "\u001b[1;32m<ipython-input-1-b779af0ed110>\u001b[0m in \u001b[0;36m<module>\u001b[1;34m\u001b[0m\n\u001b[0;32m      2\u001b[0m \u001b[0mx\u001b[0m \u001b[1;33m=\u001b[0m \u001b[0mlist\u001b[0m\u001b[1;33m(\u001b[0m\u001b[0mrange\u001b[0m\u001b[1;33m(\u001b[0m\u001b[1;36m0\u001b[0m\u001b[1;33m,\u001b[0m \u001b[0mn\u001b[0m\u001b[1;33m)\u001b[0m\u001b[1;33m)\u001b[0m\u001b[1;33m\u001b[0m\u001b[1;33m\u001b[0m\u001b[0m\n\u001b[0;32m      3\u001b[0m \u001b[0my\u001b[0m \u001b[1;33m=\u001b[0m \u001b[1;33m[\u001b[0m\u001b[0m_\u001b[0m\u001b[1;33m*\u001b[0m\u001b[0m_\u001b[0m\u001b[1;33m+\u001b[0m\u001b[1;36m2\u001b[0m\u001b[1;33m*\u001b[0m\u001b[1;33m(\u001b[0m\u001b[0m_\u001b[0m\u001b[1;33m*\u001b[0m\u001b[0m_\u001b[0m\u001b[1;33m)\u001b[0m \u001b[1;32mfor\u001b[0m \u001b[0m_\u001b[0m \u001b[1;32min\u001b[0m \u001b[0mx\u001b[0m\u001b[1;33m]\u001b[0m\u001b[1;33m\u001b[0m\u001b[1;33m\u001b[0m\u001b[0m\n\u001b[1;32m----> 4\u001b[1;33m \u001b[0mplt\u001b[0m\u001b[1;33m.\u001b[0m\u001b[0mplot\u001b[0m\u001b[1;33m(\u001b[0m\u001b[0mx\u001b[0m\u001b[1;33m,\u001b[0m \u001b[0my\u001b[0m\u001b[1;33m)\u001b[0m\u001b[1;33m\u001b[0m\u001b[1;33m\u001b[0m\u001b[0m\n\u001b[0m\u001b[0;32m      5\u001b[0m \u001b[1;33m\u001b[0m\u001b[0m\n\u001b[0;32m      6\u001b[0m \u001b[1;33m\u001b[0m\u001b[0m\n",
      "\u001b[1;31mNameError\u001b[0m: name 'plt' is not defined"
     ]
    }
   ],
   "source": [
    "n = 1000\n",
    "x = list(range(0, n))\n",
    "y = [_*_+2*(_*_) for _ in x]\n",
    "plt.plot(x, y)\n",
    "\n",
    "\n"
   ]
  },
  {
   "cell_type": "markdown",
   "metadata": {},
   "source": [
    "## (c) 1 point\n",
    "Apply your Python code to compute the inverse of the Hilbert matrix $H_n$ for $n=1, \\ldots, 12$ (see https://en.wikipedia.org/wiki/Hilbert_matrix) -- you can use `scipy.linalg.hilbert`. This matrix is _very_ ill-conditioned, so computing its inverse is very hard for large $n$.\n",
    "\n",
    "Compare the inverse with the \"true\" inverse given by `scipy.linalg.invhilbert`. Output a (`plt.semilogy`) graph showing how the $\\infty$-norm of their difference progresses for $n$."
   ]
  },
  {
   "cell_type": "code",
<<<<<<< HEAD
   "execution_count": 14,
=======
   "execution_count": 65,
>>>>>>> d93bb49ae9ecc43781bd16c00ba2ec14b8c83165
   "metadata": {
    "deletable": false,
    "nbgrader": {
     "cell_type": "code",
     "checksum": "ad85202f0d883b6defba9ace3b0791a7",
     "grade": true,
     "grade_id": "cell-2a66f34c0f8c604a",
     "locked": false,
     "points": 1,
     "schema_version": 3,
     "solution": true,
     "task": false
    }
   },
   "outputs": [
    {
<<<<<<< HEAD
     "output_type": "stream",
     "name": "stdout",
     "text": [
      "[[   9.  -36.   30.]\n [ -36.  192. -180.]\n [  30. -180.  180.]]\n[[   9.  -36.   30.]\n [ -36.  192. -180.]\n [  30. -180.  180.]]\n[[-2.84217094e-14  1.42108547e-13 -1.35003120e-13]\n [ 1.49213975e-13 -7.38964445e-13  6.82121026e-13]\n [-1.38555833e-13  6.82121026e-13 -6.25277607e-13]]\n"
     ]
    },
    {
     "output_type": "display_data",
     "data": {
      "text/plain": "<Figure size 432x288 with 1 Axes>",
      "image/svg+xml": "<?xml version=\"1.0\" encoding=\"utf-8\" standalone=\"no\"?>\r\n<!DOCTYPE svg PUBLIC \"-//W3C//DTD SVG 1.1//EN\"\r\n  \"http://www.w3.org/Graphics/SVG/1.1/DTD/svg11.dtd\">\r\n<!-- Created with matplotlib (https://matplotlib.org/) -->\r\n<svg height=\"248.518125pt\" version=\"1.1\" viewBox=\"0 0 401.2 248.518125\" width=\"401.2pt\" xmlns=\"http://www.w3.org/2000/svg\" xmlns:xlink=\"http://www.w3.org/1999/xlink\">\r\n <defs>\r\n  <style type=\"text/css\">\r\n*{stroke-linecap:butt;stroke-linejoin:round;}\r\n  </style>\r\n </defs>\r\n <g id=\"figure_1\">\r\n  <g id=\"patch_1\">\r\n   <path d=\"M 0 248.518125 \r\nL 401.2 248.518125 \r\nL 401.2 0 \r\nL 0 0 \r\nz\r\n\" style=\"fill:none;\"/>\r\n  </g>\r\n  <g id=\"axes_1\">\r\n   <g id=\"patch_2\">\r\n    <path d=\"M 59.2 224.64 \r\nL 394 224.64 \r\nL 394 7.2 \r\nL 59.2 7.2 \r\nz\r\n\" style=\"fill:#ffffff;\"/>\r\n   </g>\r\n   <g id=\"matplotlib.axis_1\">\r\n    <g id=\"xtick_1\">\r\n     <g id=\"line2d_1\">\r\n      <defs>\r\n       <path d=\"M 0 0 \r\nL 0 3.5 \r\n\" id=\"mab80c61b44\" style=\"stroke:#000000;stroke-width:0.8;\"/>\r\n      </defs>\r\n      <g>\r\n       <use style=\"stroke:#000000;stroke-width:0.8;\" x=\"74.418182\" xlink:href=\"#mab80c61b44\" y=\"224.64\"/>\r\n      </g>\r\n     </g>\r\n     <g id=\"text_1\">\r\n      <!-- 0.00 -->\r\n      <defs>\r\n       <path d=\"M 31.78125 66.40625 \r\nQ 24.171875 66.40625 20.328125 58.90625 \r\nQ 16.5 51.421875 16.5 36.375 \r\nQ 16.5 21.390625 20.328125 13.890625 \r\nQ 24.171875 6.390625 31.78125 6.390625 \r\nQ 39.453125 6.390625 43.28125 13.890625 \r\nQ 47.125 21.390625 47.125 36.375 \r\nQ 47.125 51.421875 43.28125 58.90625 \r\nQ 39.453125 66.40625 31.78125 66.40625 \r\nz\r\nM 31.78125 74.21875 \r\nQ 44.046875 74.21875 50.515625 64.515625 \r\nQ 56.984375 54.828125 56.984375 36.375 \r\nQ 56.984375 17.96875 50.515625 8.265625 \r\nQ 44.046875 -1.421875 31.78125 -1.421875 \r\nQ 19.53125 -1.421875 13.0625 8.265625 \r\nQ 6.59375 17.96875 6.59375 36.375 \r\nQ 6.59375 54.828125 13.0625 64.515625 \r\nQ 19.53125 74.21875 31.78125 74.21875 \r\nz\r\n\" id=\"DejaVuSans-48\"/>\r\n       <path d=\"M 10.6875 12.40625 \r\nL 21 12.40625 \r\nL 21 0 \r\nL 10.6875 0 \r\nz\r\n\" id=\"DejaVuSans-46\"/>\r\n      </defs>\r\n      <g transform=\"translate(63.285369 239.238438)scale(0.1 -0.1)\">\r\n       <use xlink:href=\"#DejaVuSans-48\"/>\r\n       <use x=\"63.623047\" xlink:href=\"#DejaVuSans-46\"/>\r\n       <use x=\"95.410156\" xlink:href=\"#DejaVuSans-48\"/>\r\n       <use x=\"159.033203\" xlink:href=\"#DejaVuSans-48\"/>\r\n      </g>\r\n     </g>\r\n    </g>\r\n    <g id=\"xtick_2\">\r\n     <g id=\"line2d_2\">\r\n      <g>\r\n       <use style=\"stroke:#000000;stroke-width:0.8;\" x=\"112.463636\" xlink:href=\"#mab80c61b44\" y=\"224.64\"/>\r\n      </g>\r\n     </g>\r\n     <g id=\"text_2\">\r\n      <!-- 0.25 -->\r\n      <defs>\r\n       <path d=\"M 19.1875 8.296875 \r\nL 53.609375 8.296875 \r\nL 53.609375 0 \r\nL 7.328125 0 \r\nL 7.328125 8.296875 \r\nQ 12.9375 14.109375 22.625 23.890625 \r\nQ 32.328125 33.6875 34.8125 36.53125 \r\nQ 39.546875 41.84375 41.421875 45.53125 \r\nQ 43.3125 49.21875 43.3125 52.78125 \r\nQ 43.3125 58.59375 39.234375 62.25 \r\nQ 35.15625 65.921875 28.609375 65.921875 \r\nQ 23.96875 65.921875 18.8125 64.3125 \r\nQ 13.671875 62.703125 7.8125 59.421875 \r\nL 7.8125 69.390625 \r\nQ 13.765625 71.78125 18.9375 73 \r\nQ 24.125 74.21875 28.421875 74.21875 \r\nQ 39.75 74.21875 46.484375 68.546875 \r\nQ 53.21875 62.890625 53.21875 53.421875 \r\nQ 53.21875 48.921875 51.53125 44.890625 \r\nQ 49.859375 40.875 45.40625 35.40625 \r\nQ 44.1875 33.984375 37.640625 27.21875 \r\nQ 31.109375 20.453125 19.1875 8.296875 \r\nz\r\n\" id=\"DejaVuSans-50\"/>\r\n       <path d=\"M 10.796875 72.90625 \r\nL 49.515625 72.90625 \r\nL 49.515625 64.59375 \r\nL 19.828125 64.59375 \r\nL 19.828125 46.734375 \r\nQ 21.96875 47.46875 24.109375 47.828125 \r\nQ 26.265625 48.1875 28.421875 48.1875 \r\nQ 40.625 48.1875 47.75 41.5 \r\nQ 54.890625 34.8125 54.890625 23.390625 \r\nQ 54.890625 11.625 47.5625 5.09375 \r\nQ 40.234375 -1.421875 26.90625 -1.421875 \r\nQ 22.3125 -1.421875 17.546875 -0.640625 \r\nQ 12.796875 0.140625 7.71875 1.703125 \r\nL 7.71875 11.625 \r\nQ 12.109375 9.234375 16.796875 8.0625 \r\nQ 21.484375 6.890625 26.703125 6.890625 \r\nQ 35.15625 6.890625 40.078125 11.328125 \r\nQ 45.015625 15.765625 45.015625 23.390625 \r\nQ 45.015625 31 40.078125 35.4375 \r\nQ 35.15625 39.890625 26.703125 39.890625 \r\nQ 22.75 39.890625 18.8125 39.015625 \r\nQ 14.890625 38.140625 10.796875 36.28125 \r\nz\r\n\" id=\"DejaVuSans-53\"/>\r\n      </defs>\r\n      <g transform=\"translate(101.330824 239.238438)scale(0.1 -0.1)\">\r\n       <use xlink:href=\"#DejaVuSans-48\"/>\r\n       <use x=\"63.623047\" xlink:href=\"#DejaVuSans-46\"/>\r\n       <use x=\"95.410156\" xlink:href=\"#DejaVuSans-50\"/>\r\n       <use x=\"159.033203\" xlink:href=\"#DejaVuSans-53\"/>\r\n      </g>\r\n     </g>\r\n    </g>\r\n    <g id=\"xtick_3\">\r\n     <g id=\"line2d_3\">\r\n      <g>\r\n       <use style=\"stroke:#000000;stroke-width:0.8;\" x=\"150.509091\" xlink:href=\"#mab80c61b44\" y=\"224.64\"/>\r\n      </g>\r\n     </g>\r\n     <g id=\"text_3\">\r\n      <!-- 0.50 -->\r\n      <g transform=\"translate(139.376278 239.238438)scale(0.1 -0.1)\">\r\n       <use xlink:href=\"#DejaVuSans-48\"/>\r\n       <use x=\"63.623047\" xlink:href=\"#DejaVuSans-46\"/>\r\n       <use x=\"95.410156\" xlink:href=\"#DejaVuSans-53\"/>\r\n       <use x=\"159.033203\" xlink:href=\"#DejaVuSans-48\"/>\r\n      </g>\r\n     </g>\r\n    </g>\r\n    <g id=\"xtick_4\">\r\n     <g id=\"line2d_4\">\r\n      <g>\r\n       <use style=\"stroke:#000000;stroke-width:0.8;\" x=\"188.554545\" xlink:href=\"#mab80c61b44\" y=\"224.64\"/>\r\n      </g>\r\n     </g>\r\n     <g id=\"text_4\">\r\n      <!-- 0.75 -->\r\n      <defs>\r\n       <path d=\"M 8.203125 72.90625 \r\nL 55.078125 72.90625 \r\nL 55.078125 68.703125 \r\nL 28.609375 0 \r\nL 18.3125 0 \r\nL 43.21875 64.59375 \r\nL 8.203125 64.59375 \r\nz\r\n\" id=\"DejaVuSans-55\"/>\r\n      </defs>\r\n      <g transform=\"translate(177.421733 239.238438)scale(0.1 -0.1)\">\r\n       <use xlink:href=\"#DejaVuSans-48\"/>\r\n       <use x=\"63.623047\" xlink:href=\"#DejaVuSans-46\"/>\r\n       <use x=\"95.410156\" xlink:href=\"#DejaVuSans-55\"/>\r\n       <use x=\"159.033203\" xlink:href=\"#DejaVuSans-53\"/>\r\n      </g>\r\n     </g>\r\n    </g>\r\n    <g id=\"xtick_5\">\r\n     <g id=\"line2d_5\">\r\n      <g>\r\n       <use style=\"stroke:#000000;stroke-width:0.8;\" x=\"226.6\" xlink:href=\"#mab80c61b44\" y=\"224.64\"/>\r\n      </g>\r\n     </g>\r\n     <g id=\"text_5\">\r\n      <!-- 1.00 -->\r\n      <defs>\r\n       <path d=\"M 12.40625 8.296875 \r\nL 28.515625 8.296875 \r\nL 28.515625 63.921875 \r\nL 10.984375 60.40625 \r\nL 10.984375 69.390625 \r\nL 28.421875 72.90625 \r\nL 38.28125 72.90625 \r\nL 38.28125 8.296875 \r\nL 54.390625 8.296875 \r\nL 54.390625 0 \r\nL 12.40625 0 \r\nz\r\n\" id=\"DejaVuSans-49\"/>\r\n      </defs>\r\n      <g transform=\"translate(215.467188 239.238438)scale(0.1 -0.1)\">\r\n       <use xlink:href=\"#DejaVuSans-49\"/>\r\n       <use x=\"63.623047\" xlink:href=\"#DejaVuSans-46\"/>\r\n       <use x=\"95.410156\" xlink:href=\"#DejaVuSans-48\"/>\r\n       <use x=\"159.033203\" xlink:href=\"#DejaVuSans-48\"/>\r\n      </g>\r\n     </g>\r\n    </g>\r\n    <g id=\"xtick_6\">\r\n     <g id=\"line2d_6\">\r\n      <g>\r\n       <use style=\"stroke:#000000;stroke-width:0.8;\" x=\"264.645455\" xlink:href=\"#mab80c61b44\" y=\"224.64\"/>\r\n      </g>\r\n     </g>\r\n     <g id=\"text_6\">\r\n      <!-- 1.25 -->\r\n      <g transform=\"translate(253.512642 239.238438)scale(0.1 -0.1)\">\r\n       <use xlink:href=\"#DejaVuSans-49\"/>\r\n       <use x=\"63.623047\" xlink:href=\"#DejaVuSans-46\"/>\r\n       <use x=\"95.410156\" xlink:href=\"#DejaVuSans-50\"/>\r\n       <use x=\"159.033203\" xlink:href=\"#DejaVuSans-53\"/>\r\n      </g>\r\n     </g>\r\n    </g>\r\n    <g id=\"xtick_7\">\r\n     <g id=\"line2d_7\">\r\n      <g>\r\n       <use style=\"stroke:#000000;stroke-width:0.8;\" x=\"302.690909\" xlink:href=\"#mab80c61b44\" y=\"224.64\"/>\r\n      </g>\r\n     </g>\r\n     <g id=\"text_7\">\r\n      <!-- 1.50 -->\r\n      <g transform=\"translate(291.558097 239.238438)scale(0.1 -0.1)\">\r\n       <use xlink:href=\"#DejaVuSans-49\"/>\r\n       <use x=\"63.623047\" xlink:href=\"#DejaVuSans-46\"/>\r\n       <use x=\"95.410156\" xlink:href=\"#DejaVuSans-53\"/>\r\n       <use x=\"159.033203\" xlink:href=\"#DejaVuSans-48\"/>\r\n      </g>\r\n     </g>\r\n    </g>\r\n    <g id=\"xtick_8\">\r\n     <g id=\"line2d_8\">\r\n      <g>\r\n       <use style=\"stroke:#000000;stroke-width:0.8;\" x=\"340.736364\" xlink:href=\"#mab80c61b44\" y=\"224.64\"/>\r\n      </g>\r\n     </g>\r\n     <g id=\"text_8\">\r\n      <!-- 1.75 -->\r\n      <g transform=\"translate(329.603551 239.238438)scale(0.1 -0.1)\">\r\n       <use xlink:href=\"#DejaVuSans-49\"/>\r\n       <use x=\"63.623047\" xlink:href=\"#DejaVuSans-46\"/>\r\n       <use x=\"95.410156\" xlink:href=\"#DejaVuSans-55\"/>\r\n       <use x=\"159.033203\" xlink:href=\"#DejaVuSans-53\"/>\r\n      </g>\r\n     </g>\r\n    </g>\r\n    <g id=\"xtick_9\">\r\n     <g id=\"line2d_9\">\r\n      <g>\r\n       <use style=\"stroke:#000000;stroke-width:0.8;\" x=\"378.781818\" xlink:href=\"#mab80c61b44\" y=\"224.64\"/>\r\n      </g>\r\n     </g>\r\n     <g id=\"text_9\">\r\n      <!-- 2.00 -->\r\n      <g transform=\"translate(367.649006 239.238438)scale(0.1 -0.1)\">\r\n       <use xlink:href=\"#DejaVuSans-50\"/>\r\n       <use x=\"63.623047\" xlink:href=\"#DejaVuSans-46\"/>\r\n       <use x=\"95.410156\" xlink:href=\"#DejaVuSans-48\"/>\r\n       <use x=\"159.033203\" xlink:href=\"#DejaVuSans-48\"/>\r\n      </g>\r\n     </g>\r\n    </g>\r\n   </g>\r\n   <g id=\"matplotlib.axis_2\">\r\n    <g id=\"ytick_1\">\r\n     <g id=\"line2d_10\">\r\n      <defs>\r\n       <path d=\"M 0 0 \r\nL -2 0 \r\n\" id=\"m29ceda1196\" style=\"stroke:#000000;stroke-width:0.6;\"/>\r\n      </defs>\r\n      <g>\r\n       <use style=\"stroke:#000000;stroke-width:0.6;\" x=\"59.2\" xlink:href=\"#m29ceda1196\" y=\"171.692956\"/>\r\n      </g>\r\n     </g>\r\n     <g id=\"text_10\">\r\n      <!-- $\\mathdefault{2\\times10^{-13}}$ -->\r\n      <defs>\r\n       <path d=\"M 70.125 53.71875 \r\nL 47.796875 31.296875 \r\nL 70.125 8.984375 \r\nL 64.3125 3.078125 \r\nL 41.890625 25.484375 \r\nL 19.484375 3.078125 \r\nL 13.71875 8.984375 \r\nL 35.984375 31.296875 \r\nL 13.71875 53.71875 \r\nL 19.484375 59.625 \r\nL 41.890625 37.203125 \r\nL 64.3125 59.625 \r\nz\r\n\" id=\"DejaVuSans-215\"/>\r\n       <path d=\"M 10.59375 35.5 \r\nL 73.1875 35.5 \r\nL 73.1875 27.203125 \r\nL 10.59375 27.203125 \r\nz\r\n\" id=\"DejaVuSans-8722\"/>\r\n       <path d=\"M 40.578125 39.3125 \r\nQ 47.65625 37.796875 51.625 33 \r\nQ 55.609375 28.21875 55.609375 21.1875 \r\nQ 55.609375 10.40625 48.1875 4.484375 \r\nQ 40.765625 -1.421875 27.09375 -1.421875 \r\nQ 22.515625 -1.421875 17.65625 -0.515625 \r\nQ 12.796875 0.390625 7.625 2.203125 \r\nL 7.625 11.71875 \r\nQ 11.71875 9.328125 16.59375 8.109375 \r\nQ 21.484375 6.890625 26.8125 6.890625 \r\nQ 36.078125 6.890625 40.9375 10.546875 \r\nQ 45.796875 14.203125 45.796875 21.1875 \r\nQ 45.796875 27.640625 41.28125 31.265625 \r\nQ 36.765625 34.90625 28.71875 34.90625 \r\nL 20.21875 34.90625 \r\nL 20.21875 43.015625 \r\nL 29.109375 43.015625 \r\nQ 36.375 43.015625 40.234375 45.921875 \r\nQ 44.09375 48.828125 44.09375 54.296875 \r\nQ 44.09375 59.90625 40.109375 62.90625 \r\nQ 36.140625 65.921875 28.71875 65.921875 \r\nQ 24.65625 65.921875 20.015625 65.03125 \r\nQ 15.375 64.15625 9.8125 62.3125 \r\nL 9.8125 71.09375 \r\nQ 15.4375 72.65625 20.34375 73.4375 \r\nQ 25.25 74.21875 29.59375 74.21875 \r\nQ 40.828125 74.21875 47.359375 69.109375 \r\nQ 53.90625 64.015625 53.90625 55.328125 \r\nQ 53.90625 49.265625 50.4375 45.09375 \r\nQ 46.96875 40.921875 40.578125 39.3125 \r\nz\r\n\" id=\"DejaVuSans-51\"/>\r\n      </defs>\r\n      <g transform=\"translate(7.2 175.492175)scale(0.1 -0.1)\">\r\n       <use transform=\"translate(0 0.765625)\" xlink:href=\"#DejaVuSans-50\"/>\r\n       <use transform=\"translate(83.105469 0.765625)\" xlink:href=\"#DejaVuSans-215\"/>\r\n       <use transform=\"translate(186.376953 0.765625)\" xlink:href=\"#DejaVuSans-49\"/>\r\n       <use transform=\"translate(250 0.765625)\" xlink:href=\"#DejaVuSans-48\"/>\r\n       <use transform=\"translate(314.580078 39.046875)scale(0.7)\" xlink:href=\"#DejaVuSans-8722\"/>\r\n       <use transform=\"translate(373.232422 39.046875)scale(0.7)\" xlink:href=\"#DejaVuSans-49\"/>\r\n       <use transform=\"translate(417.768555 39.046875)scale(0.7)\" xlink:href=\"#DejaVuSans-51\"/>\r\n      </g>\r\n     </g>\r\n    </g>\r\n    <g id=\"ytick_2\">\r\n     <g id=\"line2d_11\">\r\n      <g>\r\n       <use style=\"stroke:#000000;stroke-width:0.6;\" x=\"59.2\" xlink:href=\"#m29ceda1196\" y=\"120.597342\"/>\r\n      </g>\r\n     </g>\r\n     <g id=\"text_11\">\r\n      <!-- $\\mathdefault{3\\times10^{-13}}$ -->\r\n      <g transform=\"translate(7.2 124.39656)scale(0.1 -0.1)\">\r\n       <use transform=\"translate(0 0.765625)\" xlink:href=\"#DejaVuSans-51\"/>\r\n       <use transform=\"translate(83.105469 0.765625)\" xlink:href=\"#DejaVuSans-215\"/>\r\n       <use transform=\"translate(186.376953 0.765625)\" xlink:href=\"#DejaVuSans-49\"/>\r\n       <use transform=\"translate(250 0.765625)\" xlink:href=\"#DejaVuSans-48\"/>\r\n       <use transform=\"translate(314.580078 39.046875)scale(0.7)\" xlink:href=\"#DejaVuSans-8722\"/>\r\n       <use transform=\"translate(373.232422 39.046875)scale(0.7)\" xlink:href=\"#DejaVuSans-49\"/>\r\n       <use transform=\"translate(417.768555 39.046875)scale(0.7)\" xlink:href=\"#DejaVuSans-51\"/>\r\n      </g>\r\n     </g>\r\n    </g>\r\n    <g id=\"ytick_3\">\r\n     <g id=\"line2d_12\">\r\n      <g>\r\n       <use style=\"stroke:#000000;stroke-width:0.6;\" x=\"59.2\" xlink:href=\"#m29ceda1196\" y=\"84.344427\"/>\r\n      </g>\r\n     </g>\r\n     <g id=\"text_12\">\r\n      <!-- $\\mathdefault{4\\times10^{-13}}$ -->\r\n      <defs>\r\n       <path d=\"M 37.796875 64.3125 \r\nL 12.890625 25.390625 \r\nL 37.796875 25.390625 \r\nz\r\nM 35.203125 72.90625 \r\nL 47.609375 72.90625 \r\nL 47.609375 25.390625 \r\nL 58.015625 25.390625 \r\nL 58.015625 17.1875 \r\nL 47.609375 17.1875 \r\nL 47.609375 0 \r\nL 37.796875 0 \r\nL 37.796875 17.1875 \r\nL 4.890625 17.1875 \r\nL 4.890625 26.703125 \r\nz\r\n\" id=\"DejaVuSans-52\"/>\r\n      </defs>\r\n      <g transform=\"translate(7.2 88.143645)scale(0.1 -0.1)\">\r\n       <use transform=\"translate(0 0.765625)\" xlink:href=\"#DejaVuSans-52\"/>\r\n       <use transform=\"translate(83.105469 0.765625)\" xlink:href=\"#DejaVuSans-215\"/>\r\n       <use transform=\"translate(186.376953 0.765625)\" xlink:href=\"#DejaVuSans-49\"/>\r\n       <use transform=\"translate(250 0.765625)\" xlink:href=\"#DejaVuSans-48\"/>\r\n       <use transform=\"translate(314.580078 39.046875)scale(0.7)\" xlink:href=\"#DejaVuSans-8722\"/>\r\n       <use transform=\"translate(373.232422 39.046875)scale(0.7)\" xlink:href=\"#DejaVuSans-49\"/>\r\n       <use transform=\"translate(417.768555 39.046875)scale(0.7)\" xlink:href=\"#DejaVuSans-51\"/>\r\n      </g>\r\n     </g>\r\n    </g>\r\n    <g id=\"ytick_4\">\r\n     <g id=\"line2d_13\">\r\n      <g>\r\n       <use style=\"stroke:#000000;stroke-width:0.6;\" x=\"59.2\" xlink:href=\"#m29ceda1196\" y=\"56.224481\"/>\r\n      </g>\r\n     </g>\r\n    </g>\r\n    <g id=\"ytick_5\">\r\n     <g id=\"line2d_14\">\r\n      <g>\r\n       <use style=\"stroke:#000000;stroke-width:0.6;\" x=\"59.2\" xlink:href=\"#m29ceda1196\" y=\"33.248812\"/>\r\n      </g>\r\n     </g>\r\n     <g id=\"text_13\">\r\n      <!-- $\\mathdefault{6\\times10^{-13}}$ -->\r\n      <defs>\r\n       <path d=\"M 33.015625 40.375 \r\nQ 26.375 40.375 22.484375 35.828125 \r\nQ 18.609375 31.296875 18.609375 23.390625 \r\nQ 18.609375 15.53125 22.484375 10.953125 \r\nQ 26.375 6.390625 33.015625 6.390625 \r\nQ 39.65625 6.390625 43.53125 10.953125 \r\nQ 47.40625 15.53125 47.40625 23.390625 \r\nQ 47.40625 31.296875 43.53125 35.828125 \r\nQ 39.65625 40.375 33.015625 40.375 \r\nz\r\nM 52.59375 71.296875 \r\nL 52.59375 62.3125 \r\nQ 48.875 64.0625 45.09375 64.984375 \r\nQ 41.3125 65.921875 37.59375 65.921875 \r\nQ 27.828125 65.921875 22.671875 59.328125 \r\nQ 17.53125 52.734375 16.796875 39.40625 \r\nQ 19.671875 43.65625 24.015625 45.921875 \r\nQ 28.375 48.1875 33.59375 48.1875 \r\nQ 44.578125 48.1875 50.953125 41.515625 \r\nQ 57.328125 34.859375 57.328125 23.390625 \r\nQ 57.328125 12.15625 50.6875 5.359375 \r\nQ 44.046875 -1.421875 33.015625 -1.421875 \r\nQ 20.359375 -1.421875 13.671875 8.265625 \r\nQ 6.984375 17.96875 6.984375 36.375 \r\nQ 6.984375 53.65625 15.1875 63.9375 \r\nQ 23.390625 74.21875 37.203125 74.21875 \r\nQ 40.921875 74.21875 44.703125 73.484375 \r\nQ 48.484375 72.75 52.59375 71.296875 \r\nz\r\n\" id=\"DejaVuSans-54\"/>\r\n      </defs>\r\n      <g transform=\"translate(7.2 37.048031)scale(0.1 -0.1)\">\r\n       <use transform=\"translate(0 0.765625)\" xlink:href=\"#DejaVuSans-54\"/>\r\n       <use transform=\"translate(83.105469 0.765625)\" xlink:href=\"#DejaVuSans-215\"/>\r\n       <use transform=\"translate(186.376953 0.765625)\" xlink:href=\"#DejaVuSans-49\"/>\r\n       <use transform=\"translate(250 0.765625)\" xlink:href=\"#DejaVuSans-48\"/>\r\n       <use transform=\"translate(314.580078 39.046875)scale(0.7)\" xlink:href=\"#DejaVuSans-8722\"/>\r\n       <use transform=\"translate(373.232422 39.046875)scale(0.7)\" xlink:href=\"#DejaVuSans-49\"/>\r\n       <use transform=\"translate(417.768555 39.046875)scale(0.7)\" xlink:href=\"#DejaVuSans-51\"/>\r\n      </g>\r\n     </g>\r\n    </g>\r\n    <g id=\"ytick_6\">\r\n     <g id=\"line2d_15\">\r\n      <g>\r\n       <use style=\"stroke:#000000;stroke-width:0.6;\" x=\"59.2\" xlink:href=\"#m29ceda1196\" y=\"13.823161\"/>\r\n      </g>\r\n     </g>\r\n    </g>\r\n   </g>\r\n   <g id=\"line2d_16\">\r\n    <path clip-path=\"url(#pa5dc8c2425)\" d=\"M 226.578265 249.518125 \r\nL 226.6 208.607959 \r\nL 226.621735 249.518125 \r\n\" style=\"fill:none;stroke:#1f77b4;stroke-linecap:square;stroke-width:1.5;\"/>\r\n   </g>\r\n   <g id=\"line2d_17\">\r\n    <path clip-path=\"url(#pa5dc8c2425)\" d=\"M 74.418182 214.756364 \r\nL 74.43665 249.518125 \r\nM 378.658413 249.518125 \r\nL 378.781818 17.083636 \r\n\" style=\"fill:none;stroke:#ff7f0e;stroke-linecap:square;stroke-width:1.5;\"/>\r\n   </g>\r\n   <g id=\"line2d_18\">\r\n    <path clip-path=\"url(#pa5dc8c2425)\" d=\"M 226.476595 249.518125 \r\nL 226.6 17.083636 \r\nL 226.723405 249.518125 \r\n\" style=\"fill:none;stroke:#2ca02c;stroke-linecap:square;stroke-width:1.5;\"/>\r\n   </g>\r\n   <g id=\"patch_3\">\r\n    <path d=\"M 59.2 224.64 \r\nL 59.2 7.2 \r\n\" style=\"fill:none;stroke:#000000;stroke-linecap:square;stroke-linejoin:miter;stroke-width:0.8;\"/>\r\n   </g>\r\n   <g id=\"patch_4\">\r\n    <path d=\"M 394 224.64 \r\nL 394 7.2 \r\n\" style=\"fill:none;stroke:#000000;stroke-linecap:square;stroke-linejoin:miter;stroke-width:0.8;\"/>\r\n   </g>\r\n   <g id=\"patch_5\">\r\n    <path d=\"M 59.2 224.64 \r\nL 394 224.64 \r\n\" style=\"fill:none;stroke:#000000;stroke-linecap:square;stroke-linejoin:miter;stroke-width:0.8;\"/>\r\n   </g>\r\n   <g id=\"patch_6\">\r\n    <path d=\"M 59.2 7.2 \r\nL 394 7.2 \r\n\" style=\"fill:none;stroke:#000000;stroke-linecap:square;stroke-linejoin:miter;stroke-width:0.8;\"/>\r\n   </g>\r\n  </g>\r\n </g>\r\n <defs>\r\n  <clipPath id=\"pa5dc8c2425\">\r\n   <rect height=\"217.44\" width=\"334.8\" x=\"59.2\" y=\"7.2\"/>\r\n  </clipPath>\r\n </defs>\r\n</svg>\r\n",
      "image/png": "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\n"
     },
     "metadata": {
      "needs_background": "light"
     }
    }
   ],
   "source": []
=======
     "data": {
      "image/png": "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\n",
      "text/plain": [
       "<Figure size 432x288 with 1 Axes>"
      ]
     },
     "metadata": {
      "needs_background": "light"
     },
     "output_type": "display_data"
    }
   ],
   "source": [
    "steps = list(range(1, 13))\n",
    "\n",
    "hilb_inverses = [invert(la.hilbert(i)) for i in steps]\n",
    "true_hilb_inverses = [la.invhilbert(i) for i in steps]\n",
    "\n",
    "hilb_differences = [np.subtract(hilb_inverses[i], true_hilb_inverses[i]) for i in range(12)]\n",
    "difference_norms = [la.norm(hd, ord=np.inf) for hd in hilb_differences]\n",
    "\n",
    "plt.semilogy(steps, difference_norms)\n",
    "plt.xticks(steps)\n",
    "plt.xlabel(\"Size n of square Hilbert matrix Hn\")\n",
    "plt.ylabel(\"Inf-row norm of the difference matrix\")\n",
    "plt.show()"
   ]
>>>>>>> d93bb49ae9ecc43781bd16c00ba2ec14b8c83165
  },
  {
   "cell_type": "markdown",
   "metadata": {
    "deletable": false,
    "editable": false,
    "nbgrader": {
     "cell_type": "markdown",
     "checksum": "00b61b86ab4ed2cb1ee322906683d0cc",
     "grade": false,
     "grade_id": "cell-bad121f5da89727d",
     "locked": true,
     "schema_version": 3,
     "solution": false,
     "task": false
    }
   },
   "source": [
    "## (d) 2 points\n",
    "It is known that the $2$-condition number $cond_2(H_n)$ of the Hilbert matrix grows like $\\mathcal O\\left(\\frac{(1+\\sqrt{2})^{4n}}{\\sqrt{n}}\\right)$. Does the $\\infty$-condition number (defined in Example 2.5) of $H_n$ grow in a similar way?\n",
    "For the matrix inverse, try both your own matrix inversion routine, and `scipy.linalg.invhilbert`. Output a (`plt.semilogy`) graph showing your results."
   ]
  },
  {
   "cell_type": "code",
   "execution_count": 81,
   "metadata": {
    "deletable": false,
    "nbgrader": {
     "cell_type": "code",
     "checksum": "ec6405bc5f0f4ec4d0348d58de70d19c",
     "grade": true,
     "grade_id": "cell-5d826880c65b8b93",
     "locked": false,
     "points": 2,
     "schema_version": 3,
     "solution": true,
     "task": false
    }
   },
   "outputs": [
    {
     "data": {
      "image/png": "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\n",
      "text/plain": [
       "<Figure size 432x288 with 1 Axes>"
      ]
     },
     "metadata": {
      "needs_background": "light"
     },
     "output_type": "display_data"
    }
   ],
   "source": [
    "def con2_O(x):\n",
    "    ''' Calulcates the growth of the O-function given above.\n",
    "    '''\n",
    "    return (((1+np.sqrt(2))**(4*x)) / np.sqrt(x))\n",
    "\n",
    "\n",
    "# Recalculated for higher N to visualize difference.\n",
    "steps=list(range(1, 15))\n",
    "con = [con2_O(i) for i in steps]\n",
    "\n",
    "hilb_matrices = [la.hilbert(i) for i in steps]\n",
    "hilb_inverses = [invert(la.hilbert(i)) for i in steps]\n",
    "true_hilb_inverses = [la.invhilbert(i) for i in steps]\n",
    "\n",
    "# Infinite norm calculation\n",
    "norminf_hilbert = np.array([la.norm(hilb_matrices[i], ord=np.inf) for i in range(14)])\n",
    "norminf_inverse = np.array([la.norm(hilb_inverses[i], ord=np.inf) for i in range(14)])\n",
    "norminf_true_inverse = np.array([la.norm(true_hilb_inverses[i], ord=np.inf) for i in range(14)])\n",
    "\n",
    "# Infinite condition number calculation\n",
    "coninf_hilbert = norminf_hilbert*norminf_inverse\n",
    "coninf_true_hilbert = norminf_hilbert*norminf_true_inverse\n",
    "\n",
    "\n",
    "plt.semilogy(steps, coninf_hilbert, 'r', label=\"Own function\")\n",
    "plt.semilogy(steps, coninf_true_hilbert, 'g', label=\"True inverse\")\n",
    "plt.semilogy(steps, con, 'b--', label=\"O(cond_2)\")\n",
    "plt.xticks(steps)\n",
    "plt.xlabel(\"Size N of square hilbert matrix\")\n",
    "plt.ylabel(\"Inf-Condition number\")\n",
    "plt.legend()\n",
    "plt.show()"
   ]
  },
  {
   "cell_type": "markdown",
   "metadata": {},
   "source": [
    "As you can see from the graph plotted above, the $\\infty$-Condition number grows like $\\mathcal O\\left(\\frac{(1+\\sqrt{2})^{4n}}{\\sqrt{n}}\\right)$ as well, but our own implemented inverse function drops off in accurracy at n > 12."
   ]
  }
 ],
 "metadata": {
  "kernelspec": {
   "display_name": "Python 3",
   "language": "python",
   "name": "python3"
  },
  "language_info": {
   "codemirror_mode": {
    "name": "ipython",
    "version": 3
   },
   "file_extension": ".py",
   "mimetype": "text/x-python",
   "name": "python",
   "nbconvert_exporter": "python",
   "pygments_lexer": "ipython3",
<<<<<<< HEAD
   "version": "3.8.3-final"
=======
   "version": "3.8.3"
>>>>>>> d93bb49ae9ecc43781bd16c00ba2ec14b8c83165
  }
 },
 "nbformat": 4,
 "nbformat_minor": 2
}