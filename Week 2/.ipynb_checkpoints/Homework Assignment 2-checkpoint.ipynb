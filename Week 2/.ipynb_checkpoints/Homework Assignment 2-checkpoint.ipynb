{
 "cells": [
  {
   "cell_type": "markdown",
   "metadata": {},
   "source": [
    "Before you turn this problem in, make sure everything runs as expected. First, **restart the kernel** (in the menubar, select Kernel$\\rightarrow$Restart) and then **run all cells** (in the menubar, select Cell$\\rightarrow$Run All).\n",
    "\n",
    "Make sure you fill in any place that says `YOUR CODE HERE` or \"YOUR ANSWER HERE\", as well as your name and collaborators below:"
   ]
  },
  {
   "cell_type": "code",
   "execution_count": 1,
   "metadata": {},
   "outputs": [],
   "source": [
    "NAME = \"Daniël Vink\"\n",
    "COLLABORATORS = \"\""
   ]
  },
  {
   "cell_type": "markdown",
   "metadata": {
    "deletable": false,
    "editable": false,
    "nbgrader": {
     "cell_type": "markdown",
     "checksum": "b654779fd1e07660ee9040748a45c822",
     "grade": false,
     "grade_id": "cell-2b750b36b629bca4",
     "locked": true,
     "schema_version": 3,
     "solution": false,
     "task": false
    }
   },
   "source": [
    "---\n",
    "# Homework set 2"
   ]
  },
  {
   "cell_type": "markdown",
   "metadata": {
    "deletable": false,
    "editable": false,
    "nbgrader": {
     "cell_type": "markdown",
     "checksum": "a9787e9089b1ce6573ede5ca4859755c",
     "grade": false,
     "grade_id": "cell-83825325139a7870",
     "locked": true,
     "schema_version": 3,
     "solution": false,
     "task": false
    }
   },
   "source": [
    "# Exercise 0\n",
    "Write down the names + student ID of the people in your group."
   ]
  },
  {
   "cell_type": "markdown",
   "metadata": {
    "deletable": false,
    "nbgrader": {
     "cell_type": "markdown",
     "checksum": "ce773beeedf2878578755c4d5158a99c",
     "grade": true,
     "grade_id": "cell-629562588dd70ec7",
     "locked": false,
     "points": 0,
     "schema_version": 3,
     "solution": true,
     "task": false
    }
   },
   "source": [
    "Daniël Vink - 10675140"
   ]
  },
  {
   "cell_type": "markdown",
   "metadata": {
    "deletable": false,
    "editable": false,
    "nbgrader": {
     "cell_type": "markdown",
     "checksum": "9be04587fb7e5cb7b60d658cd3953fa3",
     "grade": false,
     "grade_id": "cell-4f5d0e698cfd8edb",
     "locked": true,
     "schema_version": 3,
     "solution": false,
     "task": false
    }
   },
   "source": [
    "Run the following cell to import the nessecary packages."
   ]
  },
  {
   "cell_type": "code",
   "execution_count": 4,
   "metadata": {},
   "outputs": [],
   "source": [
    "import scipy.linalg as la\n",
    "import numpy as np\n",
    "import matplotlib.pyplot as plt"
   ]
  },
  {
   "cell_type": "markdown",
   "metadata": {
    "deletable": false,
    "editable": false,
    "nbgrader": {
     "cell_type": "markdown",
     "checksum": "236c54fa66cc884cbc2250b72b0c5b1d",
     "grade": false,
     "grade_id": "cell-072e3c5da42a861f",
     "locked": true,
     "schema_version": 3,
     "solution": false,
     "task": false
    }
   },
   "source": [
    "-----\n",
    "# Exercise 1 (2.1 on the Exercise sheet)\n",
    "\n",
    "##### NOTE: You may also submit Exercise 1 as a pdf of your handwritten solutions if you prefer. If so, indicate this where you would put your answers below"
   ]
  },
  {
   "cell_type": "markdown",
   "metadata": {
    "deletable": false,
    "editable": false,
    "nbgrader": {
     "cell_type": "markdown",
     "checksum": "9a50bd11f56e4ff93a3a3f5d9c5a8012",
     "grade": false,
     "grade_id": "cell-306494218416f215",
     "locked": true,
     "schema_version": 3,
     "solution": false,
     "task": false
    }
   },
   "source": [
    "## (a) 1 point\n",
    "Let $A$ be the matrix $\\begin{bmatrix} 1 & -1 & \\alpha \\\\ 2 & 2 & 1 \\\\ 0 & \\alpha & -3/2 \\end{bmatrix}$. For which values of $\\alpha$ is $A$ singular?"
   ]
  },
  {
   "cell_type": "markdown",
   "metadata": {
    "deletable": false,
    "nbgrader": {
     "cell_type": "markdown",
     "checksum": "6f565c8300533b6526b848adcdc26ca9",
     "grade": true,
     "grade_id": "cell-3d33896a965d92eb",
     "locked": false,
     "points": 1,
     "schema_version": 3,
     "solution": true,
     "task": false
    }
   },
   "source": [
    "### Answer:\n",
    "\n",
    "A matrix is singular when the Det(A) = 0\n",
    "\n",
    "$Det(A) = 0$ \n",
    "  \n",
    "$Det(A) = (2 * -\\frac{3}{2} - \\alpha) - (-1)(2 * -\\frac{3}{2}) + \\alpha(2 \\alpha)$  \n",
    "  \n",
    "$-3-3- \\alpha + 2 \\alpha^2 = 0$\n",
    "  \n",
    "$\\alpha^2 - -\\frac{1}{2} \\alpha - 3 = 0 $\n",
    "\n",
    "$\\alpha = 2$ OR $\\alpha = -\\frac{3}{2}$\n"
   ]
  },
  {
   "cell_type": "markdown",
   "metadata": {
    "deletable": false,
    "editable": false,
    "nbgrader": {
     "cell_type": "markdown",
     "checksum": "159c12af7394fe143a6d9209a7b8425b",
     "grade": false,
     "grade_id": "cell-993d7ad099a6c517",
     "locked": true,
     "schema_version": 3,
     "solution": false,
     "task": false
    }
   },
   "source": [
    "## (b) 1 point\n",
    "Consider the following linear system of equations:\n",
    "$$\n",
    "\\begin{align*}\n",
    "2x + y + z & = 3 \\\\\n",
    "2x - y + 3z &= 5 \\\\\n",
    "-2x + \\alpha y + 3z &= 1.\n",
    "\\end{align*}\n",
    "$$\n",
    "For what values of $\\alpha$ does this system have an infinite number of solutions?"
   ]
  },
  {
   "cell_type": "markdown",
   "metadata": {
    "deletable": false,
    "nbgrader": {
     "cell_type": "markdown",
     "checksum": "c61c0f97e445ed0c974a29efa0f28fda",
     "grade": true,
     "grade_id": "cell-053e45d5469e3352",
     "locked": false,
     "points": 1,
     "schema_version": 3,
     "solution": true,
     "task": false
    }
   },
   "source": [
    "### Answer:\n",
    "\n",
    "A system can have an infinite number of solutions when the system is singular and consistent. We know a system is singular when the $det(A) = 0$ and it is consistent when its solution is a linear combination of the system.\n",
    "\n",
    "\n",
    "$det(A) = 0$ when: \\\n",
    "$(2*(-3 -3*\\alpha)) - (1*(6--6)) + (1*(2*\\alpha -2)) = 0$ \\\n",
    "$-6 -6*\\alpha -12 +2*\\alpha -2 = 0$ \\\n",
    "$-4*\\alpha -20 = 0$ \\\n",
    "$\\alpha = -5$\n",
    "\n",
    "If you fill in this value for alpha in the matrix A, and rewrite it in row-echelon form you get the following matrix:\\\n",
    "$\\begin{bmatrix}2 & 1 & 1 & 3\\\\ 2 & -1 & 3 & 5\\\\ -2 & -5 & 3 & 1\\end{bmatrix}$ \\\n",
    "If you then subtract row 1 from row 2, and add row 1 to row 3 you get:\\\n",
    "$\\begin{bmatrix}2 & 1 & 1 & 3\\\\ 0 & -2 & 2 & 2\\\\ 0 & -4 & 4 & 4\\end{bmatrix}$ \\\n",
    "From which it is clearly visible that row 2 and 3 are the same line, so the system is consistent. The final solution for the system is then:\\\n",
    "$\\begin{bmatrix}2-z \\\\ z-1 \\\\ z\\end{bmatrix}$"
   ]
  },
  {
   "cell_type": "markdown",
   "metadata": {
    "deletable": false,
    "editable": false,
    "nbgrader": {
     "cell_type": "markdown",
     "checksum": "db4d987555967c757cb021cd1f78b7df",
     "grade": false,
     "grade_id": "cell-d87d3f6d9564df45",
     "locked": true,
     "schema_version": 3,
     "solution": false,
     "task": false
    }
   },
   "source": [
    "## (c) 2 points\n",
    "Denote the columns of an $n \\times n$ matrix $A$ as $A_k$ for $k=1,\\ldots,n$. We define the function $||A||_* = \\max_k ||A_k||_2$. Show that $||A||_*$ is a norm, in that it satisfies the first three properties of a matrix norm (cf. §2.3.2)."
   ]
  },
  {
   "cell_type": "markdown",
   "metadata": {
    "deletable": false,
    "nbgrader": {
     "cell_type": "markdown",
     "checksum": "5be436de682d5b89b837349c8efc6150",
     "grade": true,
     "grade_id": "cell-85404d0ebae15448",
     "locked": false,
     "points": 2,
     "schema_version": 3,
     "solution": true,
     "task": false
    }
   },
   "source": [
    "The function $||A||_*$ is defined as the maximum result between the 2-norm of its n columns. The definition for the 2-norm of a vector is:\\\n",
    "$||x||_2 = \\sqrt(\\sum_i |x_i|^2)$ \\\n",
    "So for every element in the vector, its absolute value is squared and summed. This will always result in a positive number, unless all the elements in the vector are 0. So: for any matrix $A \\neq O$, which means any matrix that has at least 1 non-zero element, the maximum result between the 2-norm of all its column vectors will at least be higher than 0. The equation satisfies the first property of a matrix norm. \n",
    "\n",
    "Because the function $||A||_*$ is defined as the maximum result between the 2-norm of its n columns, if we want to calculate the result of a scalar multiplied matrix $\\gamma A$, we can rewrite the equation $||\\gamma A||_*$ as: \\\n",
    "$max_k ||\\gamma A_k||_2$ \\\n",
    "And since we know that for any vector norm it holds true that: \\\n",
    "$||\\gamma x|| = |\\gamma| * ||x||$ \\\n",
    "We can say it also holds true for our function and thus it satisfies the second property of a matrix norm.\n",
    "\n",
    "Lets define the matrix $A = B + C$. Because the function $||A||_*$ is defined as the maximum result between the 2-norm of its n columns, and the sum of two matrices $B$ and $C$ is defined as the element wise sum of these matrices, we know that if we calculate the 2-norm of the matrices $B$ and $C$ there are two options:\n",
    "* The largest 2-norm vector is the same column in $B$ and in $C$\n",
    "* The largest 2-norm vectors of $B$ and $C$ are different columns\n",
    "\n",
    "In the first case, the sum of the two 2-norms is equal to the 2-norm of the element-wise summed matrix $A$ because norms are calculated over the same values. In the second case, the element-wise addition of the matrices $B$ and $C$ means that the column of $B$ with the highest norm is added to a column of $C$ that has a lower or equal norm than the column of $C$ with the highest norm. That means that the result of our function of the matrix $A$ is either lower than or equal to the sum of the results of our function on the matrices $B$ and $C$. This means our function also satisfies the third property of a matrix norm. \n"
   ]
  },
  {
   "cell_type": "markdown",
   "metadata": {
    "deletable": false,
    "editable": false,
    "nbgrader": {
     "cell_type": "markdown",
     "checksum": "b479ad41889654378d2baf8f57567f97",
     "grade": false,
     "grade_id": "cell-f9b678556cbbca76",
     "locked": true,
     "schema_version": 3,
     "solution": false,
     "task": false
    }
   },
   "source": [
    "----\n",
    "# Exercise 2\n",
    "For solving linear systems such as $Ax = b$, it is unnecessary (and often unstable) to compute the inverse $A^{-1}$. Nonetheless, there can be situations where it is useful to compute $A^{-1}$ explicitly. One way to do so is by using the LU-decomposition of $A$."
   ]
  },
  {
   "cell_type": "markdown",
   "metadata": {
    "deletable": false,
    "editable": false,
    "nbgrader": {
     "cell_type": "markdown",
     "checksum": "565e3b2b1ee30b9dbdecfa831dac654f",
     "grade": false,
     "grade_id": "cell-2a60097255e3d1b5",
     "locked": true,
     "schema_version": 3,
     "solution": false,
     "task": false
    }
   },
   "source": [
    "## (a) 2 points\n",
    "Write an algorithm to compute $A^{-1}$ for a non-singular matrix $A$ using its LU-decomposition. You can use `scipy.linalg.lu` (which returns an LU-decomposition with _partial pivoting_, i.e., with a permutation matrix $P$) and the other `scipy.linalg.lu_*` functions, but not `scipy.linalg.inv` (or other methods for computing matrix inverses directly)."
   ]
  },
  {
   "cell_type": "code",
   "execution_count": 35,
   "metadata": {
    "deletable": false,
    "nbgrader": {
     "cell_type": "code",
     "checksum": "b011ebd554ea10da4a53655bdadd6383",
     "grade": true,
     "grade_id": "cell-6f892d33e776e31f",
     "locked": false,
     "points": 2,
     "schema_version": 3,
     "solution": true,
     "task": false
    }
   },
   "outputs": [
    {
     "name": "stdout",
     "output_type": "stream",
     "text": [
      "[[  2   1   1]\n",
      " [  2  -1   3]\n",
      " [ -2 100   3]]\n",
      "[[ 0.72142857 -0.23095238 -0.00952381]\n",
      " [ 0.02857143 -0.01904762  0.00952381]\n",
      " [-0.47142857  0.48095238  0.00952381]]\n",
      "[[ 0.72142857 -0.23095238 -0.00952381]\n",
      " [ 0.02857143 -0.01904762  0.00952381]\n",
      " [-0.47142857  0.48095238  0.00952381]]\n"
     ]
    }
   ],
   "source": [
    "def invert(A):\n",
    "    ''' Calculates the inverse of a square input matrix by using its LU-decomposition.\n",
    "    It solves the equations Uz=I and Lx=z as substeps.\n",
    "    '''\n",
    "    n = np.shape(A)[0]\n",
    "    inverse = np.zeros((n, n))\n",
    "    identity = np.identity(n)\n",
    "    \n",
    "    P, L, U = la.lu(A) # LU-decomposition\n",
    "    \n",
    "    # For every column solve the subequations.\n",
    "    for i in range(n): \n",
    "        z = la.solve_triangular(L, identity[i], lower=True)\n",
    "        x = la.solve_triangular(U, z)\n",
    "        inverse[i] = x\n",
    "    # Result is transposed because calculations use rows.\n",
    "    return np.dot(inverse.T, P)\n",
    "\n",
    "\n",
    "matrix = np.array([[2,1,1], [2,-1,3], [-2, 100, 3]])\n",
    "\n",
    "print(matrix) # Input\n",
    "print(invert(matrix)) # Output\n",
    "print(la.inv(matrix)) # Test\n"
   ]
  },
  {
   "cell_type": "markdown",
   "metadata": {},
   "source": [
    "## (b) 1 point\n",
    "What is the computational complexity of your algorithm, given that the input matrix has size $n \\times n$?\n",
    "Give a short calculation/explanation for your answer."
   ]
  },
  {
   "cell_type": "markdown",
   "metadata": {
    "deletable": false,
    "nbgrader": {
     "cell_type": "markdown",
     "checksum": "2dd9d0b893218b8e70d7a0a66f09e514",
     "grade": true,
     "grade_id": "cell-a15cf95231b8aa77",
     "locked": false,
     "points": 1,
     "schema_version": 3,
     "solution": true,
     "task": false
    }
   },
   "source": [
    "YOUR ANSWER HERE"
   ]
  },
  {
   "cell_type": "markdown",
   "metadata": {},
   "source": [
    "## (c) 1 point\n",
    "Apply your Python code to compute the inverse of the Hilbert matrix $H_n$ for $n=1, \\ldots, 12$ (see https://en.wikipedia.org/wiki/Hilbert_matrix) -- you can use `scipy.linalg.hilbert`. This matrix is _very_ ill-conditioned, so computing its inverse is very hard for large $n$.\n",
    "\n",
    "Compare the inverse with the \"true\" inverse given by `scipy.linalg.invhilbert`. Output a (`plt.semilogy`) graph showing how the $\\infty$-norm of their difference progresses for $n$."
   ]
  },
  {
   "cell_type": "code",
   "execution_count": null,
   "metadata": {
    "deletable": false,
    "nbgrader": {
     "cell_type": "code",
     "checksum": "ad85202f0d883b6defba9ace3b0791a7",
     "grade": true,
     "grade_id": "cell-2a66f34c0f8c604a",
     "locked": false,
     "points": 1,
     "schema_version": 3,
     "solution": true,
     "task": false
    }
   },
   "outputs": [],
   "source": [
    "# YOUR CODE HERE\n",
    "raise NotImplementedError()"
   ]
  },
  {
   "cell_type": "markdown",
   "metadata": {
    "deletable": false,
    "editable": false,
    "nbgrader": {
     "cell_type": "markdown",
     "checksum": "00b61b86ab4ed2cb1ee322906683d0cc",
     "grade": false,
     "grade_id": "cell-bad121f5da89727d",
     "locked": true,
     "schema_version": 3,
     "solution": false,
     "task": false
    }
   },
   "source": [
    "## (d) 2 points\n",
    "It is known that the $2$-condition number $cond_2(H_n)$ of the Hilbert matrix grows like $\\mathcal O\\left(\\frac{(1+\\sqrt{2})^{4n}}{\\sqrt{n}}\\right)$. Does the $\\infty$-condition number (defined in Example 2.5) of $H_n$ grow in a similar way?\n",
    "For the matrix inverse, try both your own matrix inversion routine, and `scipy.linalg.invhilbert`. Output a (`plt.semilogy`) graph showing your results."
   ]
  },
  {
   "cell_type": "code",
   "execution_count": null,
   "metadata": {
    "deletable": false,
    "nbgrader": {
     "cell_type": "code",
     "checksum": "ec6405bc5f0f4ec4d0348d58de70d19c",
     "grade": true,
     "grade_id": "cell-5d826880c65b8b93",
     "locked": false,
     "points": 2,
     "schema_version": 3,
     "solution": true,
     "task": false
    }
   },
   "outputs": [],
   "source": [
    "# YOUR CODE HERE\n",
    "raise NotImplementedError()"
   ]
  }
 ],
 "metadata": {
  "kernelspec": {
   "display_name": "Python 3",
   "language": "python",
   "name": "python3"
  },
  "language_info": {
   "codemirror_mode": {
    "name": "ipython",
    "version": 3
   },
   "file_extension": ".py",
   "mimetype": "text/x-python",
   "name": "python",
   "nbconvert_exporter": "python",
   "pygments_lexer": "ipython3",
   "version": "3.8.3"
  }
 },
 "nbformat": 4,
 "nbformat_minor": 2
}
