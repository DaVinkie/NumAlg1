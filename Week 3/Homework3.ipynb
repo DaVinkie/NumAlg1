{
 "cells": [
  {
   "cell_type": "markdown",
   "metadata": {
    "deletable": false,
    "editable": false,
    "nbgrader": {
     "cell_type": "markdown",
     "checksum": "295bac7aff978a5053fe6296bc263057",
     "grade": false,
     "grade_id": "cell-377905089451b847",
     "locked": true,
     "schema_version": 3,
     "solution": false,
     "task": false
    }
   },
   "source": [
    "Please **submit this Jupyter notebook through Canvas** no later than **Monday November 16, 15:00**.\n",
    "\n",
    "Homework is in **groups of two**, and you are expected to hand in original work. Work that is copied from another group will not be accepted."
   ]
  },
  {
   "cell_type": "markdown",
   "metadata": {
    "deletable": false,
    "editable": false,
    "nbgrader": {
     "cell_type": "markdown",
     "checksum": "692d9b39bb7bca4669846e59df1ae4ad",
     "grade": false,
     "grade_id": "cell-c54f4d4c1bfdaf74",
     "locked": true,
     "schema_version": 3,
     "solution": false,
     "task": false
    }
   },
   "source": [
    "# Exercise 0\n",
    "Write down the names + student ID of the people in your group."
   ]
  },
  {
   "cell_type": "markdown",
   "metadata": {
    "deletable": false,
    "nbgrader": {
     "cell_type": "markdown",
     "checksum": "cd06d8011df3ddfa83ed78d7cf0ca7ee",
     "grade": true,
     "grade_id": "cell-116f45d8c13e8994",
     "locked": false,
     "points": 0,
     "schema_version": 3,
     "solution": true,
     "task": false
    }
   },
   "source": [
    "Daniël Vink - 10675140 \\\n",
    "Sam Kuilboer - 12442690"
   ]
  },
  {
   "cell_type": "markdown",
   "metadata": {
    "deletable": false,
    "editable": false,
    "nbgrader": {
     "cell_type": "markdown",
     "checksum": "3d80af1b1345a294435c4d0a6480336a",
     "grade": false,
     "grade_id": "cell-3a1d8429bc575d6e",
     "locked": true,
     "schema_version": 3,
     "solution": false,
     "task": false
    }
   },
   "source": [
    "-----\n",
    "# Exercise 1"
   ]
  },
  {
   "cell_type": "markdown",
   "metadata": {
    "deletable": false,
    "editable": false,
    "nbgrader": {
     "cell_type": "markdown",
     "checksum": "c618486971ea88788fac0d41389e0abf",
     "grade": false,
     "grade_id": "cell-013042cafca10b84",
     "locked": true,
     "schema_version": 3,
     "solution": false,
     "task": false
    }
   },
   "source": [
    "# (a)\n",
    "We have the table of data in the next cell.\n",
    "\n",
    "Using `numpy.linalg.lstsq()`, fit a straight line, a quadratic function, and a cubic function to these data. Plot the data and your fitted functions in a graph. It is **not** allowed to use numpy.polyfit, but you may have a look at the documentation to see some examples."
   ]
  },
  {
   "cell_type": "code",
   "execution_count": 3,
   "metadata": {},
   "outputs": [],
   "source": [
    "import numpy as np\n",
    "\n",
    "t = np.array([3, 11, 29, 32, 47, 63, 73, 99], dtype=np.float)\n",
    "w = np.array([74, 72, 52, 35, 37, 20, 19, 19], dtype=np.float)"
   ]
  },
  {
   "cell_type": "markdown",
   "metadata": {
    "deletable": false,
    "nbgrader": {
     "cell_type": "code",
     "checksum": "7a89bebc5fd4ea78a6029d4d3e03b6e3",
     "grade": true,
     "grade_id": "cell-749cd4dac54dfb07",
     "locked": false,
     "points": 2,
     "schema_version": 3,
     "solution": true,
     "task": false
    }
   },
   "source": [
    "General form of a straight line equation: $y = ax + b$ \\\n",
    "General form of a quadratic function: $y = ax^2 + bx + c$ \\\n",
    "General form of a cubic function: $y = ax^3 + bx^2 + cx + d$"
   ]
  },
  {
   "cell_type": "code",
   "execution_count": 4,
   "metadata": {},
   "outputs": [
    {
     "data": {
      "image/png": "[encoded data removed]",
      "text/plain": [
       "<Figure size 432x288 with 1 Axes>"
      ]
     },
     "metadata": {
      "needs_background": "light"
     },
     "output_type": "display_data"
    }
   ],
   "source": [
    "import numpy.linalg as la\n",
    "import matplotlib.pyplot as plt\n",
    "\n",
    "''' Data is fitted by solving the linear equation w = Ax for x.\n",
    "A takes the shape of the t-values of every point on its row, with an added 1 to accommodate the added constant\n",
    "from the general equation. The resulting vector x contains the fitted coefficients.\n",
    "'''\n",
    "\n",
    "# Linear fit\n",
    "straight_A = np.array([t, np.ones(len(t))]).T\n",
    "a_1, b_1 = la.lstsq(straight_A, w, rcond=None)[0]\n",
    "\n",
    "# Quadratic fit\n",
    "quadr_A = np.array([t**2, t, np.ones(len(t))]).T\n",
    "a_2, b_2, c_2 = la.lstsq(quadr_A, w, rcond=None)[0]\n",
    "\n",
    "# Cubic fit\n",
    "cubic_A = np.array([t**3, t**2, t, np.ones(len(t))]).T\n",
    "a_3, b_3, c_3, d_3 = la.lstsq(cubic_A, w, rcond=None)[0]\n",
    "\n",
    "# Plot\n",
    "plt.plot(t, w, 'ro', label='Data points')\n",
    "plt.plot(t, a_1*t + b_1, label='Linear fit')\n",
    "plt.plot(t, a_2*t**2 + b_2*t + c_2, label='Quadratic fit')\n",
    "plt.plot(t, a_3*t**3 + b_3*t**2 + c_3*t + d_3, label='Cubic fit')\n",
    "plt.legend()\n",
    "plt.ylabel(\"w values\")\n",
    "plt.xlabel(\"t values\")\n",
    "plt.show()"
   ]
  },
  {
   "cell_type": "markdown",
   "metadata": {
    "deletable": false,
    "editable": false,
    "nbgrader": {
     "cell_type": "markdown",
     "checksum": "5500b8a885a56c0313e7f0fa2ea85cd7",
     "grade": false,
     "grade_id": "cell-b6b2bbfadb645b88",
     "locked": true,
     "schema_version": 3,
     "solution": false,
     "task": false
    }
   },
   "source": [
    "## (b)\n",
    "Compute the condition number of the associated Vandermonde matrix in each case."
   ]
  },
  {
   "cell_type": "code",
   "execution_count": 5,
   "metadata": {
    "deletable": false,
    "nbgrader": {
     "cell_type": "code",
     "checksum": "c035b1dc6f7d5dcb7f75757fe7e33b7c",
     "grade": true,
     "grade_id": "cell-3046b43b3da71111",
     "locked": false,
     "points": 1,
     "schema_version": 3,
     "solution": true,
     "task": false
    }
   },
   "outputs": [
    {
     "name": "stdout",
     "output_type": "stream",
     "text": [
      "Condition number (2nd Order) of the linear Vandermonde-matrix:  95.97978844376208\n",
      "Condition number (2nd Order) of the quadratic Vandermonde-matrix:  10562.214789189062\n",
      "Condition number (2nd Order) of the cubic Vandermonde-matrix:  1192946.877148659\n",
      "As you can see, the matrices are poorly conditioned and can lead to large errors.\n"
     ]
    }
   ],
   "source": [
    "''' Because the order is unspecified, we calculated the 2nd order condition number of the above \n",
    "created A (Vandermonde) matrices. \n",
    "'''\n",
    "cond_linear = la.cond(straight_A)\n",
    "cond_quadr = la.cond(quadr_A)\n",
    "cond_cubic = la.cond(cubic_A)\n",
    "\n",
    "print('Condition number (2nd Order) of the linear Vandermonde-matrix: ', cond_linear)\n",
    "print('Condition number (2nd Order) of the quadratic Vandermonde-matrix: ', cond_quadr)\n",
    "print('Condition number (2nd Order) of the cubic Vandermonde-matrix: ', cond_cubic)\n",
    "\n",
    "print('As you can see, the matrices are poorly conditioned and can lead to large errors.')"
   ]
  },
  {
   "cell_type": "markdown",
   "metadata": {
    "deletable": false,
    "editable": false,
    "nbgrader": {
     "cell_type": "markdown",
     "checksum": "310ebdb3fa4ef49028e27546650e1bca",
     "grade": false,
     "grade_id": "cell-0b5f1a7502baedd0",
     "locked": true,
     "schema_version": 3,
     "solution": false,
     "task": false
    }
   },
   "source": [
    "----\n",
    "# Exercise 2\n",
    "Planets follow an elliptical orbit, which can be represented in a Cartesian $(x,y)$-coordinate system by the equation\n",
    "$$ ay^2 + bxy + cx + dy + e = x^2. $$"
   ]
  },
  {
   "cell_type": "markdown",
   "metadata": {
    "deletable": false,
    "editable": false,
    "nbgrader": {
     "cell_type": "markdown",
     "checksum": "473d6c57a4521188bcc996d8dc2b3ae8",
     "grade": false,
     "grade_id": "cell-665b57a01df06510",
     "locked": true,
     "schema_version": 3,
     "solution": false,
     "task": false
    }
   },
   "source": [
    "## (a)\n",
    "Use `numpy.linalg.lstsq()` to determine the orbital parameters $a,b,c,d,e$ for the table of observations given below.\n",
    "In addition, plot the resulting orbit and the data points in the $(x,y)$-plane."
   ]
  },
  {
   "cell_type": "code",
   "execution_count": 6,
   "metadata": {},
   "outputs": [
    {
     "data": {
      "image/png": "[encoded data removed]",
      "text/plain": [
       "<Figure size 432x288 with 1 Axes>"
      ]
     },
     "metadata": {
      "needs_background": "light"
     },
     "output_type": "display_data"
    }
   ],
   "source": [
    "x = np.array([1.02, 0.95, 0.87, 0.77, 0.67, 0.56, 0.44, 0.30, 0.16, 0.01], dtype=np.float)\n",
    "y = np.array([0.39, 0.32, 0.27, 0.22, 0.18, 0.15, 0.13, 0.12, 0.13, 0.15], dtype=np.float)\n",
    "\n",
    "import matplotlib.pyplot as plt\n",
    "t = np.linspace(0, 2*np.pi, 101)\n",
    "\n",
    "plt.scatter(x,y)\n",
    "plt.show()"
   ]
  },
  {
   "cell_type": "code",
   "execution_count": 7,
   "metadata": {
    "deletable": false,
    "nbgrader": {
     "cell_type": "code",
     "checksum": "2ba38c4766192ac4bea4cbbed289fcfa",
     "grade": true,
     "grade_id": "cell-f3fd2b78f901de7d",
     "locked": false,
     "points": 2,
     "schema_version": 3,
     "solution": true,
     "task": false
    }
   },
   "outputs": [
    {
     "name": "stdout",
     "output_type": "stream",
     "text": [
      "Coefficients: \n",
      "a:  -2.6356254837121007\n",
      "b:  0.14364618259889303\n",
      "c:  0.5514469631403579\n",
      "d:  3.2229403381058948\n",
      "e:  -0.4328942702644502\n"
     ]
    }
   ],
   "source": [
    "ellips_A = np.array([y**2, x*y, x, y, np.ones(len(x))]).T\n",
    "a, b, c, d, e = la.lstsq(ellips_A, x**2, rcond=None)[0]\n",
    "print('Coefficients: ')\n",
    "print('a: ', a)\n",
    "print('b: ', b)\n",
    "print('c: ', c)\n",
    "print('d: ', d)\n",
    "print('e: ', e)"
   ]
  },
  {
   "cell_type": "code",
   "execution_count": 8,
   "metadata": {},
   "outputs": [
    {
     "name": "stderr",
     "output_type": "stream",
     "text": [
      "<lambdifygenerated-1>:2: RuntimeWarning: invalid value encountered in sqrt\n",
      "  return (0.0272508714699057*x - 0.615364905788255*sqrt(-x**2 + 0.640528565350396*x + 0.553471674626798) + 0.611418495917447)\n",
      "<lambdifygenerated-2>:2: RuntimeWarning: invalid value encountered in sqrt\n",
      "  return (0.0272508714699057*x + 0.615364905788255*sqrt(-x**2 + 0.640528565350396*x + 0.553471674626798) + 0.611418495917447)\n"
     ]
    },
    {
     "data": {
      "image/png": "[encoded data removed]",
      "text/plain": [
       "<Figure size 432x288 with 1 Axes>"
      ]
     },
     "metadata": {
      "needs_background": "light"
     },
     "output_type": "display_data"
    }
   ],
   "source": [
    "# We need sympy to solve the ellipse equation for y.\n",
    "from sympy import *\n",
    "\n",
    "def solve_for_y(a, b, c, d, e):\n",
    "    ''' Solves the ellipse equation for the variable y.\n",
    "    First it solves the equation for 0 and then for y with the given coefficients. Returns two functions\n",
    "    since for every value of x, this equation has two values for y. \n",
    "    '''\n",
    "    x, y = symbols('x y')\n",
    "    # Solve ellipse for 0, so pull x**2 to the left side of the equation.\n",
    "    ellipse = a*y**2 + b*x*y + c*x + d*y + e - x**2\n",
    "    solutions = solve(ellipse, y)\n",
    "    # Solution gives the equations for the two possible values.\n",
    "    f0 = lambdify([x], solutions[0])\n",
    "    f1 = lambdify([x], solutions[1])\n",
    "    return f0, f1\n",
    "\n",
    "f0, f1 = solve_for_y(a, b, c, d, e)\n",
    "t = np.linspace(-0.5, 1.2, 201) # Space of x for to solve the equation for.\n",
    "x = np.array([1.02, 0.95, 0.87, 0.77, 0.67, 0.56, 0.44, 0.30, 0.16, 0.01], dtype=np.float)\n",
    "y = np.array([0.39, 0.32, 0.27, 0.22, 0.18, 0.15, 0.13, 0.12, 0.13, 0.15], dtype=np.float)\n",
    "\n",
    "\n",
    "plt.scatter(x, y, color='r', label='Data')\n",
    "plt.plot(t, f0(t), label='LSQ fit')\n",
    "plt.plot(t, f1(t), label='LSQ fit upper data')\n",
    "plt.legend()\n",
    "plt.show()"
   ]
  },
  {
   "cell_type": "markdown",
   "metadata": {
    "deletable": false,
    "editable": false,
    "nbgrader": {
     "cell_type": "markdown",
     "checksum": "86f6ff94efa42fc8aba5ba60712d10bf",
     "grade": false,
     "grade_id": "cell-3ae2742995720950",
     "locked": true,
     "schema_version": 3,
     "solution": false,
     "task": false
    }
   },
   "source": [
    "## (b)\n",
    "This least squares problem is nearly rank-deficient. To see what effect this has on the solution, perturb the input data slightly by adding random noise between -0.005 and 0.005 (using, for instance, `numpy.random.rand`), and solve the least squares problem with the perturbed data. Compare the new values for the parameters with those from (a). What effect does this difference have on the plot of the orbit?"
   ]
  },
  {
   "cell_type": "code",
   "execution_count": 41,
   "metadata": {
    "deletable": false,
    "nbgrader": {
     "cell_type": "code",
     "checksum": "5a96017dcb36101ba1b7cf08e7e35bae",
     "grade": true,
     "grade_id": "cell-97938100e2f44497",
     "locked": false,
     "points": 2,
     "schema_version": 3,
     "solution": true,
     "task": false
    }
   },
   "outputs": [
    {
     "name": "stdout",
     "output_type": "stream",
     "text": [
      "Coefficient comparison: \n",
      "a:  -2.6356254837121007  | Noisy a:  -3.227185109515388\n",
      "b:  0.14364618259889303  | Noisy b:  0.3462883491380942\n",
      "c:  0.5514469631403579   | Noisy c:  0.5227258855587947\n",
      "d:  3.2229403381058948   | Noisy d:  3.307985364813766\n",
      "e:  -0.4328942702644502  | Noisy e:  -0.43279686770247516\n"
     ]
    },
    {
     "name": "stderr",
     "output_type": "stream",
     "text": [
      "<lambdifygenerated-1>:2: RuntimeWarning: invalid value encountered in sqrt\n",
      "  return (0.0272508714699057*x - 0.615364905788255*sqrt(-x**2 + 0.640528565350396*x + 0.553471674626798) + 0.611418495917447)\n",
      "<lambdifygenerated-2>:2: RuntimeWarning: invalid value encountered in sqrt\n",
      "  return (0.0272508714699057*x + 0.615364905788255*sqrt(-x**2 + 0.640528565350396*x + 0.553471674626798) + 0.611418495917447)\n",
      "<lambdifygenerated-47>:2: RuntimeWarning: invalid value encountered in sqrt\n",
      "  return (0.0536517642135028*x - 0.554065930888953*sqrt(-x**2 + 0.706770675801804*x + 0.418795692548252) + 0.512518689284377)\n",
      "<lambdifygenerated-48>:2: RuntimeWarning: invalid value encountered in sqrt\n",
      "  return (0.0536517642135028*x + 0.554065930888953*sqrt(-x**2 + 0.706770675801804*x + 0.418795692548252) + 0.512518689284377)\n"
     ]
    },
    {
     "data": {
      "image/png": "[encoded data removed]",
      "text/plain": [
       "<Figure size 864x288 with 2 Axes>"
      ]
     },
     "metadata": {
      "needs_background": "light"
     },
     "output_type": "display_data"
    },
    {
     "name": "stderr",
     "output_type": "stream",
     "text": [
      "<lambdifygenerated-1>:2: RuntimeWarning: invalid value encountered in sqrt\n",
      "  return (0.0272508714699057*x - 0.615364905788255*sqrt(-x**2 + 0.640528565350396*x + 0.553471674626798) + 0.611418495917447)\n",
      "<lambdifygenerated-47>:2: RuntimeWarning: invalid value encountered in sqrt\n",
      "  return (0.0536517642135028*x - 0.554065930888953*sqrt(-x**2 + 0.706770675801804*x + 0.418795692548252) + 0.512518689284377)\n"
     ]
    },
    {
     "data": {
      "image/png": "[encoded data removed]",
      "text/plain": [
       "<Figure size 432x288 with 1 Axes>"
      ]
     },
     "metadata": {
      "needs_background": "light"
     },
     "output_type": "display_data"
    }
   ],
   "source": [
    "np.random.seed(7) # Reproduction\n",
    "\n",
    "noise = np.random.uniform(-0.005, 0.005, len(x))\n",
    "noisy_x = x + noise\n",
    "noise = np.random.uniform(-0.005, 0.005, len(y))\n",
    "noisy_y = y + noise\n",
    "\n",
    "# Uncertain if noise should be added to y as well.\n",
    "ellips_noisy_A = np.array([y**2, noisy_x*y, noisy_x, y, np.ones(len(noisy_x))]).T\n",
    "# ellips_noisy_A = np.array([noisy_y**2, noisy_x*noisy_y, noisy_x, noisy_y, np.ones(len(noisy_x))]).T\n",
    "\n",
    "na, nb, nc, nd, ne = la.lstsq(ellips_noisy_A, noisy_x**2, rcond=None)[0]\n",
    "\n",
    "print('Coefficient comparison: ')\n",
    "print('a: ', a, ' | Noisy a: ', na)\n",
    "print('b: ', b, ' | Noisy b: ', nb)\n",
    "print('c: ', c, '  | Noisy c: ', nc)\n",
    "print('d: ', d, '  | Noisy d: ', nd)\n",
    "print('e: ', e, ' | Noisy e: ', ne)\n",
    "\n",
    "nf0, nf1 = solve_for_y(na, nb, nc, nd, ne)\n",
    "\n",
    "x = np.array([1.02, 0.95, 0.87, 0.77, 0.67, 0.56, 0.44, 0.30, 0.16, 0.01], dtype=np.float)\n",
    "y = np.array([0.39, 0.32, 0.27, 0.22, 0.18, 0.15, 0.13, 0.12, 0.13, 0.15], dtype=np.float)\n",
    "\n",
    "fig, (ax1, ax2) = plt.subplots(1, 2, figsize=(12, 4))\n",
    "ax1.scatter(x, y, color='r', label='Data')\n",
    "ax1.plot(t, f0(t), label='LSQ fit')\n",
    "ax1.plot(t, f1(t), label='LSQ fit upper data')\n",
    "\n",
    "ax2.scatter(noisy_x, y, color='g', label='Noisy Data')\n",
    "ax2.plot(t, nf0(t), label='LSQ fit')\n",
    "ax2.plot(t, nf1(t), label='LSQ fit upper data')\n",
    "\n",
    "ax1.set(title=\"Least squared fit of provided data\")\n",
    "ax2.set(title=\"Least squared fit of provided data with added noise\")\n",
    "ax1.legend(), ax2.legend()\n",
    "plt.show()\n",
    "\n",
    "plt.plot(t, f0(t), label='Data')\n",
    "plt.plot(t, nf0(t), label='Data+Noise')\n",
    "plt.title(\"Direct comparison of fits on clean and noisy data\")\n",
    "plt.legend()\n",
    "plt.show()"
   ]
  },
  {
   "cell_type": "markdown",
   "metadata": {
    "deletable": false,
    "editable": false,
    "nbgrader": {
     "cell_type": "markdown",
     "checksum": "a5167beb437609ce39229f0375fafa0a",
     "grade": false,
     "grade_id": "cell-1e7232356c6e2fb0",
     "locked": true,
     "schema_version": 3,
     "solution": false,
     "task": false
    }
   },
   "source": [
    "## (c)\n",
    "Can you explain this behaviour?"
   ]
  },
  {
   "cell_type": "markdown",
   "metadata": {
    "deletable": false,
    "nbgrader": {
     "cell_type": "markdown",
     "checksum": "b5d704cad42e9c6cd8fa430098fa2e2b",
     "grade": true,
     "grade_id": "cell-bc2971730c3f1795",
     "locked": false,
     "points": 1,
     "schema_version": 3,
     "solution": true,
     "task": false
    }
   },
   "source": [
    "YOUR ANSWER HERE"
   ]
  },
  {
   "cell_type": "markdown",
   "metadata": {},
   "source": [
    "## (d)\n",
    "Solve the same least squares problem again, for both the original *and* the perturbed data, this time using a routine specifically designed to deal with rank deficiencies. An example is `numpy.linalg.lstsq`, with the argument `rcond` as tolerance. Experiment with various tolerances, say $10^-k$ for $k \\in \\{1, ..., 5\\}$. Compare the behaviour of the two solutions (one for the original input data, one for the perturbed data). How well do the resulting orbits fit the data points as the tolerance varies?"
   ]
  },
  {
   "cell_type": "code",
   "execution_count": 10,
   "metadata": {
    "deletable": false,
    "nbgrader": {
     "cell_type": "code",
     "checksum": "a5f662a7c42e648ac49d893ff83ec97b",
     "grade": true,
     "grade_id": "cell-3ff008879f6d233e",
     "locked": false,
     "points": 1,
     "schema_version": 3,
     "solution": true,
     "task": false
    }
   },
   "outputs": [
    {
     "ename": "NotImplementedError",
     "evalue": "",
     "output_type": "error",
     "traceback": [
      "\u001b[0;31m---------------------------------------------------------------------------\u001b[0m",
      "\u001b[0;31mNotImplementedError\u001b[0m                       Traceback (most recent call last)",
      "\u001b[0;32m<ipython-input-10-15b94d1fa268>\u001b[0m in \u001b[0;36m<module>\u001b[0;34m\u001b[0m\n\u001b[1;32m      1\u001b[0m \u001b[0;31m# YOUR CODE HERE\u001b[0m\u001b[0;34m\u001b[0m\u001b[0;34m\u001b[0m\u001b[0;34m\u001b[0m\u001b[0m\n\u001b[0;32m----> 2\u001b[0;31m \u001b[0;32mraise\u001b[0m \u001b[0mNotImplementedError\u001b[0m\u001b[0;34m(\u001b[0m\u001b[0;34m)\u001b[0m\u001b[0;34m\u001b[0m\u001b[0;34m\u001b[0m\u001b[0m\n\u001b[0m",
      "\u001b[0;31mNotImplementedError\u001b[0m: "
     ]
    }
   ],
   "source": [
    "# YOUR CODE HERE\n",
    "raise NotImplementedError()"
   ]
  }
 ],
 "metadata": {
  "kernelspec": {
   "display_name": "Python 3",
   "language": "python",
   "name": "python3"
  },
  "language_info": {
   "codemirror_mode": {
    "name": "ipython",
    "version": 3
   },
   "file_extension": ".py",
   "mimetype": "text/x-python",
   "name": "python",
   "nbconvert_exporter": "python",
   "pygments_lexer": "ipython3",
   "version": "3.8.3"
  }
 },
 "nbformat": 4,
 "nbformat_minor": 2
}
