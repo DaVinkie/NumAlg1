{
 "cells": [
  {
   "cell_type": "markdown",
   "metadata": {},
   "source": [
    "Before you turn this problem in, make sure everything runs as expected. First, **restart the kernel** (in the menubar, select Kernel$\\rightarrow$Restart) and then **run all cells** (in the menubar, select Cell$\\rightarrow$Run All).\n",
    "\n",
    "Make sure you fill in any place that says `YOUR CODE HERE` or \"YOUR ANSWER HERE\", as well as your name and collaborators below:"
   ]
  },
  {
   "cell_type": "markdown",
   "metadata": {},
   "source": [
    "---"
   ]
  },
  {
   "cell_type": "markdown",
   "metadata": {
    "deletable": false,
    "editable": false,
    "nbgrader": {
     "cell_type": "markdown",
     "checksum": "e28be08ce65723a03eebe90f6af2ba42",
     "grade": false,
     "grade_id": "cell-9883e537b60e8a6c",
     "locked": true,
     "schema_version": 3,
     "solution": false,
     "task": false
    }
   },
   "source": [
    "Please **submit this Jupyter notebook through Canvas** no later than **November 30, 15:00**.\n",
    "\n",
    "Homework is in **groups of two**, and you are expected to hand in original work. Work that is copied from another group will not be accepted.\n",
    "\n",
    "# Exercise 0\n",
    "In the box below, write down the names + student ID of the people in your group."
   ]
  },
  {
   "cell_type": "markdown",
   "metadata": {},
   "source": []
  },
  {
   "cell_type": "markdown",
   "metadata": {
    "deletable": false,
    "editable": false,
    "nbgrader": {
     "cell_type": "markdown",
     "checksum": "747061d62bbfde9aa51048dcbfb5a192",
     "grade": false,
     "grade_id": "cell-b3037f62631ff374",
     "locked": true,
     "schema_version": 3,
     "solution": false,
     "task": false
    }
   },
   "source": [
    "# The global keyword (helpful info for exercise 3)\n",
    "In exercise 3 you are asked, at some point, to count the number of times a certain function is evaluated. One way of doing this is using a global variable. To change a global variable x from inside a function, the global keyword is used."
   ]
  },
  {
   "cell_type": "code",
   "execution_count": 2,
   "metadata": {},
   "outputs": [
    {
     "name": "stdout",
     "output_type": "stream",
     "text": [
      "x before: 4\n",
      "x after: 8\n"
     ]
    }
   ],
   "source": [
    "import numpy as np\n",
    "import scipy.optimize\n",
    "import matplotlib.pyplot as plt\n",
    "\n",
    "# to change a global variable x from inside a function, use the global keyword\n",
    "def foo():\n",
    "    global x\n",
    "    x = x*2\n",
    "    \n",
    "x=4\n",
    "print(\"x before:\", x) \n",
    "foo()\n",
    "print(\"x after:\", x)\n",
    "\n",
    "# verify for yourself that omitting the line \"global x\" produces an error"
   ]
  },
  {
   "cell_type": "markdown",
   "metadata": {
    "deletable": false,
    "editable": false,
    "nbgrader": {
     "cell_type": "markdown",
     "checksum": "09eb4102059700053362a6d70d3029a8",
     "grade": false,
     "grade_id": "cell-8b33b320c171235d",
     "locked": true,
     "schema_version": 3,
     "solution": false,
     "task": false
    }
   },
   "source": [
    "-----\n",
    "# Exercise 1\n",
    "**N.B. This is a pen-and-paper exercise. If you prefer you may upload a separate pdf for this exercise and other pen-and-paper exercises. If you do, don't put both files in a single .zip file, upload them both separately.**\n",
    "\n",
    "## (a) (exercise 6.4(b)) 1 point\n",
    "\n",
    "Consider the minimization of \n",
    "$$\n",
    "  f(x,y) = x^2 + y^2\n",
    "$$\n",
    "subject to\n",
    "$$\n",
    "  g(x,y) = xy^2 -1 = 0 .\n",
    "$$\n",
    "Determine the critical points of the Lagrangian function for this problem and determine whether each is a constrained minimum, a constrained maximum, or neither.\n"
   ]
  },
  {
   "cell_type": "markdown",
   "metadata": {
    "deletable": false,
    "nbgrader": {
     "cell_type": "markdown",
     "checksum": "47fff3db288e7d3ce7995c16e5e17a0c",
     "grade": true,
     "grade_id": "cell-a7805a5f1bc0a884",
     "locked": false,
     "points": 1,
     "schema_version": 3,
     "solution": true,
     "task": false
    }
   },
   "source": [
    "The critical points of the Lagrangian function is the solution to the problem: \\\n",
    "$\\nabla \\mathcal{L}(x, \\lambda) = \\begin{bmatrix} \\nabla f(x,y) + J_g^T(x, y)\\lambda \\\\ g(x, y) \\end{bmatrix} = 0$ \\\n",
    "We can calculate the gradient of f and the Jacobian of g as: \\\n",
    "$\\nabla f(x, y) = \\begin{bmatrix} 2x \\\\ 2y \\end{bmatrix}\\\\\n",
    "J_g(x, y) = \\begin{bmatrix} y^2 & 2xy \\end{bmatrix}$ \\\n",
    "So we can write the critical points problem as the following three non-linear equations:\\\n",
    "$ 2x + \\lambda y^2 = 0 $ \\\n",
    "$ 2y + \\lambda 2xy = 0 $ \\\n",
    "$ xy^2 - 1 = 0 $ \n",
    "\n",
    "If we solve the first two equations for $\\lambda$ we end up with: \\\n",
    "$ \\lambda = \\frac{-2x}{y^2} $ \\\n",
    "$ \\lambda = \\frac{-1}{x} $ \n",
    "\n",
    "Setting these two equation to be equal to another we can work out that: \\\n",
    "$ \\frac{-2x}{y^2} = \\frac{-1}{x} \\rightarrow$ \\\n",
    "$ \\frac{2x}{y^2} = \\frac{1}{x} \\rightarrow$ \\\n",
    "$ \\frac{y^2}{2x} = x $ \\\n",
    "And that: \\\n",
    "$ y^2 = 2x^2 $ \n",
    "\n",
    "If we fill in this value for $y^2$ in the constraint function, we can work out that: \\\n",
    "$ x 2x^2 - 1 = 0 \\rightarrow $ \\\n",
    "$ 2x^3 = 1 \\rightarrow $ \\\n",
    "$ x = \\sqrt[3]{0.5}$\n",
    "\n",
    "And filling in this value for $x$ in the value for $y^2$: \\\n",
    "$ y^2 = 2x^2 \\rightarrow $ \\\n",
    "$ y = \\sqrt{2x^2} \\rightarrow $ \\\n",
    "$ y = \\sqrt{2} * \\sqrt{x^2} \\rightarrow $ \\\n",
    "$ y = \\sqrt{2} * \\pm x \\rightarrow $ \\\n",
    "$ y = \\sqrt{2} * \\pm \\sqrt[3]{0.5}$\n",
    "\n",
    "If we look at the Hessian of $f(x, y)$: \\\n",
    "$\\begin{bmatrix} 2 & 0 \\\\ 0 & 2 \\end{bmatrix}$  \\\n",
    "We immediately see it has a positive determinant with positive eigenvalues which means our points \\\n",
    "\\begin{bmatrix}\\sqrt[3]{0.5} \\\\ \\sqrt{2}*\\sqrt[3]{0.5} \\end{bmatrix} and \\begin{bmatrix}\\sqrt[3]{0.5} \\\\ \\sqrt{2}*- \\sqrt[3]{0.5} \\end{bmatrix} \\\n",
    "are both constrained minima."
   ]
  },
  {
   "cell_type": "markdown",
   "metadata": {
    "deletable": false,
    "editable": false,
    "nbgrader": {
     "cell_type": "markdown",
     "checksum": "544a41a8dd55add75633bd767233e758",
     "grade": false,
     "grade_id": "cell-9979a25378b9f308",
     "locked": true,
     "schema_version": 3,
     "solution": false,
     "task": false
    }
   },
   "source": [
    "## (b) (exercise 6.4(c)) 1 point\n",
    "\n",
    "Minimize $x+y+3$ under the constraint that $x^2 + x +y^2+y = 4$. Prove that the point you find is a minimum."
   ]
  },
  {
   "cell_type": "markdown",
   "metadata": {
    "deletable": false,
    "nbgrader": {
     "cell_type": "markdown",
     "checksum": "81ed37ee155bed64f0aae0ef39118dfc",
     "grade": true,
     "grade_id": "cell-4d684ea590cdfa54",
     "locked": false,
     "points": 1,
     "schema_version": 3,
     "solution": true,
     "task": false
    }
   },
   "source": [
    "The critical points of the Lagrangian function is the solution to the problem: \\\n",
    "$\\nabla \\mathcal{L}(x, \\lambda) = \\begin{bmatrix} \\nabla f(x,y) + J_g^T(x, y)\\lambda \\\\ g(x, y) \\end{bmatrix} = 0$ \\\n",
    "We can calculate the gradient of f and the Jacobian of g as: \\\n",
    "$\\nabla f(x, y) = \\begin{bmatrix} 1 \\\\ 1 \\end{bmatrix}\\\\\n",
    "J_g(x, y) = \\begin{bmatrix} 2x + 1 & 2y + 1 \\end{bmatrix}$ \\\n",
    "\n",
    "So we can write the critical points problem as the following two non-linear equations:\\\n",
    "$ 1 = \\lambda(2x + 1) $ \\\n",
    "$ 1 = \\lambda(2y + 1) $ \\\n",
    "\n",
    "If we solve the equations for $x$ and $y$ we end up with: \\\n",
    "$ x = -\\frac{1}{2} + \\frac{1}{2\\lambda} $ \\\n",
    "$ y = -\\frac{1}{2} + \\frac{1}{2\\lambda}  $ \n",
    "\n",
    "We see that x = y.\n",
    "\n",
    "If we fill in these values in the third equation: \\\n",
    "$ x^2 + x + y^2 + y = 4 \\rightarrow 2x^2 + 2x = 4$ \\\n",
    "$ x^2 + x - 2 = 0$ \\\n",
    "$ (x + 2)(x - 1) = 0$ \\\n",
    "$ x = -2 \\vee x = 1$ \\\n",
    "\n",
    "If we replace x with the value of lambda: \\\n",
    "$ -\\frac{1}{2} + \\frac{1}{2\\lambda} = -2 \\vee -\\frac{1}{2} + \\frac{1}{2\\lambda} = 1$ \\\n",
    "$ \\lambda = -\\frac{1}{3} \\vee \\lambda = \\frac{1}{3}$ \n",
    "\n",
    "If we fill in this value for lambda in the function for x and y, we get the values of x and y: \\\n",
    "$ x = -\\frac{1}{2} + \\frac{1}{2\\lambda} $ \\\n",
    "$ x = -\\frac{1}{2} + \\frac{1}{2 * \\frac{1}{3}}$ \\\n",
    "$ x = 1 \\vee x = -2 $ \n",
    "\n",
    "Which gives us the following points (1, 1) and (-2, -2)"
   ]
  },
  {
   "cell_type": "markdown",
   "metadata": {
    "deletable": false,
    "editable": false,
    "nbgrader": {
     "cell_type": "markdown",
     "checksum": "6aba2d41ad63dca2cf76f1315bcbbefc",
     "grade": false,
     "grade_id": "cell-7177fbddfdd7d873",
     "locked": true,
     "schema_version": 3,
     "solution": false,
     "task": false
    }
   },
   "source": [
    "---\n",
    "# Exercise 2"
   ]
  },
  {
   "cell_type": "markdown",
   "metadata": {
    "deletable": false,
    "editable": false,
    "nbgrader": {
     "cell_type": "markdown",
     "checksum": "99dd228f61fac8629c22581219f8e4f1",
     "grade": false,
     "grade_id": "cell-94cd7e1c744a76c2",
     "locked": true,
     "schema_version": 3,
     "solution": false,
     "task": false
    }
   },
   "source": [
    "## (a) 1 point\n",
    " The Rosenbrock function is given by\n",
    "\n",
    "$$\n",
    "f(x,y) = 100 (y-x^2)^2 + (1-x)^2\n",
    "$$\n",
    "\n",
    "What is the gradient of $f$? Show that there is exactly one local minimum point and determine this point (N.B. this is a pen-and-paper exercise.)"
   ]
  },
  {
   "cell_type": "markdown",
   "metadata": {
    "deletable": false,
    "nbgrader": {
     "cell_type": "markdown",
     "checksum": "0ce9eb2cc3c2dc541aee1ab6aa0f8d2f",
     "grade": true,
     "grade_id": "cell-4f860d2b64403e48",
     "locked": false,
     "points": 1,
     "schema_version": 3,
     "solution": true,
     "task": false
    }
   },
   "source": [
    "We first compute the gradient of f(x, y) and set it to zero:\n",
    "\n",
    "$\\nabla f = \\begin{bmatrix} -400x(y-x^2) - 2(1-x) \\\\ 200(y-x^2) \\end{bmatrix} = 0$\n",
    "\n",
    "Calculate the values for x and y:\n",
    "\n",
    "Rewrite the functions for $\\alpha = 1$ and $\\beta = 100$ and solve them: \\\n",
    "$2 \\beta (y - x^2) = 0$ \\\n",
    "$2\\beta = 0 \\vee y - x^2 = 0$ \\\n",
    "$ y = x^2$\n",
    "\n",
    "$-2(\\alpha - x) - 4\\beta x(y - x^2) = 0$ \\\n",
    "$-(\\alpha - x) - 2\\beta x(y - x^2) = 0$ \n",
    "\n",
    "$y = x^2 $ gives the following: \\\n",
    "$(\\alpha - x) + 2\\beta(x^2 - x^2) = 0$ \\\n",
    "$\\alpha - x = 0$ \\\n",
    "$ x = \\alpha $, $y = x^2$ and $\\alpha = 1$ gives us $(\\alpha, \\alpha^2) = (1, 1)$\n",
    "\n",
    "Secondly, we compute the Hessian of the Rosenbrock function:\n",
    "\n",
    "$H  = \\begin{bmatrix}  \n",
    "\\frac{\\partial^{2} f}{\\partial x^2} & \\frac{\\partial^{2} f}{\\partial x * \\partial y } \\\\  \n",
    "\\frac{\\partial^{2} f}{\\partial x_{i}} & \\frac{\\partial^{2} f}{ \\partial y^2 }  \n",
    "\\end{bmatrix}$\n",
    "\n",
    "$ H =\n",
    "\\begin{bmatrix}  \n",
    "1200x^2 - 400x + 2 & -400y \\\\  \n",
    "-400x & 200 \n",
    "\\end{bmatrix}\n",
    "$\n",
    "\n",
    "When the Hessian matrix is positive definite at a point $x^*$, then this point is a local minimum. Fill in (1, 1):\n",
    "\n",
    "$ H =\n",
    "\\begin{bmatrix}  \n",
    "802 & -400 \\\\  \n",
    "-400 & 200 \n",
    "\\end{bmatrix}\n",
    "$\n",
    "\n",
    "The matrix has positive eigenvalues and is a positive definite matrix. So its minimum is at the point (1,1). $f(1, 1) = 0$\n"
   ]
  },
  {
   "cell_type": "markdown",
   "metadata": {
    "deletable": false,
    "editable": false,
    "nbgrader": {
     "cell_type": "markdown",
     "checksum": "eb59a046feac918aeb9061b3d43e8f6a",
     "grade": false,
     "grade_id": "cell-53b183ed09ef49cd",
     "locked": true,
     "schema_version": 3,
     "solution": false,
     "task": false
    }
   },
   "source": [
    "## (b) 2 points\n",
    "Implement the method of steepest descent. Use ``scipy.optimize.line_search`` as line search method.\n",
    "\n",
    "Test your method on the Rosenbrock function starting from $(x,y) = (0,0)$.\n",
    "Plot the convergence to the minimum.\n"
   ]
  },
  {
   "cell_type": "code",
   "execution_count": 3,
   "metadata": {
    "deletable": false,
    "nbgrader": {
     "cell_type": "code",
     "checksum": "f33eaa695ec43af4a4fe3b5543c30dda",
     "grade": true,
     "grade_id": "cell-2d5c6295e4bcde3c",
     "locked": false,
     "points": 2,
     "schema_version": 3,
     "solution": true,
     "task": false
    }
   },
   "outputs": [
    {
     "data": {
      "image/png": "[encoded data removed]",
      "text/plain": [
       "<Figure size 720x360 with 2 Axes>"
      ]
     },
     "metadata": {
      "needs_background": "light"
     },
     "output_type": "display_data"
    }
   ],
   "source": [
    "from numpy.linalg import solve\n",
    "\n",
    "# python code here\n",
    "def rosenbrock(x):\n",
    "    x, y = x\n",
    "    return np.array(100*(y-x**2)**2 + (1-x)**2)\n",
    "\n",
    "def gradf(x):\n",
    "    x, y = x\n",
    "    return np.array([-400*x*(y-x**2) - 2*(1-x), 200*(y - x**2)])\n",
    "\n",
    "\n",
    "def steepest_descent(rosenbrock, gradf, x, Bk, epsilon, max_iteration):\n",
    "    \n",
    "    x_total_f = []\n",
    "    x_vals = [np.array([0,0])]\n",
    "    \n",
    "    for k in range(max_iter):\n",
    "        \n",
    "        gradient = gradf(x)\n",
    "        sk = -gradient \n",
    "        pk = solve(Bk, sk)\n",
    "        alpha = scipy.optimize.line_search(rosenbrock, gradf, x, pk, gfk=gradient)[0]\n",
    "    \n",
    "        try:\n",
    "            sk = alpha * pk\n",
    "        except TypeError:\n",
    "            return x_total_f\n",
    "        \n",
    "        x += sk\n",
    "        x_total_f.append(rosenbrock(x))\n",
    "        x_vals.append(np.array([x[0], x[1]]))\n",
    "    \n",
    "    return x_total_f, x_vals\n",
    "    \n",
    "\n",
    "x = np.array([0,0])\n",
    "# Do method of steepest descent\n",
    "# YOUR CODE HERE\n",
    "\n",
    "max_iter = 1500\n",
    "xk, Bk = np.array([0.0, 0.0]), np.eye(2)\n",
    "x_total_f, x_vals = steepest_descent(rosenbrock, gradf, xk, Bk, 1e-10, max_iter)\n",
    "\n",
    "fig, (ax0, ax1) = plt.subplots(1,2, figsize=(10,5))\n",
    "X, Y = np.linspace(-1, 2, 101), np.linspace(-1,2, 101)\n",
    "xx, yy = np.meshgrid(X, Y)\n",
    "ff = np.zeros(xx.shape)\n",
    "for i, x in enumerate(X):\n",
    "    for j, y in enumerate(Y):\n",
    "        ff[j,i] = rosenbrock((x,y))\n",
    "ax0.contourf(xx,yy,ff, levels=25, cmap='viridis')\n",
    "ax0.plot([x[0] for x in x_vals], [x[1] for x in x_vals], 'k-')\n",
    "ax0.set_title(\"convergence\")\n",
    "ax1.semilogy([np.abs(rosenbrock((x,y))) for (x,y) in x_vals])\n",
    "ax1.set_title(\"error\")\n",
    "plt.show()\n"
   ]
  },
  {
   "cell_type": "markdown",
   "metadata": {
    "deletable": false,
    "editable": false,
    "nbgrader": {
     "cell_type": "markdown",
     "checksum": "90fe4c2daeab49b51755ba45bfd21158",
     "grade": false,
     "grade_id": "cell-2c8f52f1eddef15d",
     "locked": true,
     "schema_version": 3,
     "solution": false,
     "task": false
    }
   },
   "source": [
    "----\n",
    "# Exercise 3"
   ]
  },
  {
   "cell_type": "markdown",
   "metadata": {
    "deletable": false,
    "editable": false,
    "nbgrader": {
     "cell_type": "markdown",
     "checksum": "11ce95fe365042fff66021813fb3cc3c",
     "grade": false,
     "grade_id": "cell-36ba49f061557f52",
     "locked": true,
     "schema_version": 3,
     "solution": false,
     "task": false
    }
   },
   "source": [
    "## (a) 2 points\n",
    "\n",
    "Implement the BFGS method for unconstrained optimization, given in Heath chapter 6. Test the correctness of the code using the data in Example 6.13."
   ]
  },
  {
   "cell_type": "code",
   "execution_count": 4,
   "metadata": {
    "deletable": false,
    "nbgrader": {
     "cell_type": "code",
     "checksum": "dfb2f9a492fe76afd1c476bce0c3249f",
     "grade": true,
     "grade_id": "cell-6afa3b4364c58723",
     "locked": false,
     "points": 2,
     "schema_version": 3,
     "solution": true,
     "task": false
    }
   },
   "outputs": [
    {
     "name": "stdout",
     "output_type": "stream",
     "text": [
      "Values for x:\n",
      "[ 0. -4.]\n",
      "[-2.22222222  0.44444444]\n",
      "[0.81632653 0.08163265]\n",
      "[-0.00915314 -0.01533152]\n",
      "[-0.00054233  0.00092339]\n",
      "\n",
      "Values for f(x):\n",
      "[40.0, 2.9629629629629637, 0.34985422740524746, 0.0006295284307446692, 2.278701323931685e-06]\n"
     ]
    }
   ],
   "source": [
    "def f_function(xy):\n",
    "    x, y = xy\n",
    "    return 0.5*x**2 + 2.5*y**2\n",
    "\n",
    "def f_gradient(xy):\n",
    "    x, y = xy\n",
    "    return np.array([x, 5*y])\n",
    "\n",
    "def BFGS(f_function, f_gradient, xk, Bk, gradient):\n",
    "    \n",
    "    pk = solve(Bk, -gradient)\n",
    "    alpha=1.0\n",
    "    sk = alpha * pk\n",
    "    xk += sk\n",
    "    yk = -1.0 * gradient\n",
    "    gradient = f_gradient(xk)\n",
    "    yk += gradient\n",
    "    \n",
    "    Bksk = Bk @ sk\n",
    "    Bk += (1.0 / np.dot(yk, sk)) * np.outer(yk, yk) - (1.0 / np.dot(sk, Bksk)) * np.outer(Bksk, Bksk)\n",
    "    \n",
    "    return xk, Bk, gradient\n",
    "\n",
    "xk, Bk = np.array([5.0, 1.0]), np.eye(2)\n",
    "gradient = f_gradient(xk)\n",
    "x_values = []\n",
    "\n",
    "print(\"Values for x:\")\n",
    "for k in range(5):\n",
    "    xk, Bk, gradient = BFGS(f_function, f_gradient, xk, Bk, gradient)\n",
    "    x_values.append(f_function(xk))\n",
    "    print(xk)\n",
    "\n",
    "\n",
    "print(\"\\nValues for f(x):\")\n",
    "print(x_values)    "
   ]
  },
  {
   "cell_type": "markdown",
   "metadata": {},
   "source": [
    "## (b) 2 points\n",
    "\n",
    "Apply your implementation of the BFGS method to find a local minimum of the Rosenbrock function (see previous exercise). Use starting point $(0,0)$ and do not assume any knowledge of the Hessian when you choose $B_0$.\n",
    "Plot the convergence to the minimum."
   ]
  },
  {
   "cell_type": "code",
   "execution_count": 5,
   "metadata": {
    "deletable": false,
    "nbgrader": {
     "cell_type": "code",
     "checksum": "579c3cb3aa3f80ad1740a28b06677f2c",
     "grade": true,
     "grade_id": "cell-e084362700c1f28b",
     "locked": false,
     "points": 2,
     "schema_version": 3,
     "solution": true,
     "task": false
    }
   },
   "outputs": [
    {
     "data": {
      "text/plain": [
       "[<matplotlib.lines.Line2D at 0x7fc3d9c093d0>]"
      ]
     },
     "execution_count": 5,
     "metadata": {},
     "output_type": "execute_result"
    },
    {
     "data": {
      "image/png": "[encoded data removed]",
      "text/plain": [
       "<Figure size 720x360 with 2 Axes>"
      ]
     },
     "metadata": {
      "needs_background": "light"
     },
     "output_type": "display_data"
    }
   ],
   "source": [
    "xk = np.array([0.0, 0.0])\n",
    "Bk = np.eye(2)\n",
    "\n",
    "gradient = gradf(xk)\n",
    "\n",
    "x_values = []\n",
    "x1 = []\n",
    "x2 =[]\n",
    "\n",
    "for k in range(50):\n",
    "    xk, Bk, gradient = BFGS(rosenbrock, gradf, xk, Bk, gradient)\n",
    "    x_values.append(rosenbrock(xk))\n",
    "    x1.append(xk[0])\n",
    "    x2.append(xk[1])\n",
    "\n",
    "\n",
    "fig, (ax0, ax1) = plt.subplots(1,2, figsize=(10,5))\n",
    "ax0.plot(x1[3:])\n",
    "ax0.plot(x2[3:])\n",
    "ax1.plot(x_values[3:])\n"
   ]
  },
  {
   "cell_type": "markdown",
   "metadata": {},
   "source": [
    "## (c) 1 point\n",
    "How does the convergence compare to that of gradient descent (see\n",
    "previous question)? Let your program count the number of function and gradient evaluations and\n",
    "consider this in your comparison. Implement a stopping criterion in both methods that runs until $||x_k-x^*||_2 < 10^{-5}$.\n"
   ]
  },
  {
   "cell_type": "code",
   "execution_count": null,
   "metadata": {
    "deletable": false,
    "nbgrader": {
     "cell_type": "code",
     "checksum": "0dfefdec3f9ebdbe35785b91add0e5a0",
     "grade": true,
     "grade_id": "cell-1a5c2e9c0f9cf5f1",
     "locked": false,
     "points": 1,
     "schema_version": 3,
     "solution": true,
     "task": false
    }
   },
   "outputs": [],
   "source": [
    "# YOUR CODE HERE\n",
    "raise NotImplementedError()"
   ]
  },
  {
   "cell_type": "markdown",
   "metadata": {
    "deletable": false,
    "nbgrader": {
     "cell_type": "markdown",
     "checksum": "51bd680ac4a7ef5027b77282583d4d95",
     "grade": true,
     "grade_id": "cell-4f850d5c2d8ea5dc",
     "locked": false,
     "points": 0,
     "schema_version": 3,
     "solution": true,
     "task": false
    }
   },
   "source": [
    "Text part:\n",
    "YOUR ANSWER HERE"
   ]
  }
 ],
 "metadata": {
  "kernelspec": {
   "display_name": "Python 3",
   "language": "python",
   "name": "python3"
  },
  "language_info": {
   "codemirror_mode": {
    "name": "ipython",
    "version": 3
   },
   "file_extension": ".py",
   "mimetype": "text/x-python",
   "name": "python",
   "nbconvert_exporter": "python",
   "pygments_lexer": "ipython3",
   "version": "3.8.3"
  }
 },
 "nbformat": 4,
 "nbformat_minor": 2
}
