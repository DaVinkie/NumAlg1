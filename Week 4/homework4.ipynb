{
 "cells": [
  {
   "cell_type": "markdown",
   "metadata": {},
   "source": [
    "Before you turn this problem in, make sure everything runs as expected. First, **restart the kernel** (in the menubar, select Kernel$\\rightarrow$Restart) and then **run all cells** (in the menubar, select Cell$\\rightarrow$Run All).\n",
    "\n",
    "Make sure you fill in any place that says `YOUR CODE HERE` or \"YOUR ANSWER HERE\", as well as your name and collaborators below:"
   ]
  },
  {
   "cell_type": "markdown",
   "metadata": {},
   "source": [
    "---"
   ]
  },
  {
   "cell_type": "markdown",
   "metadata": {
    "deletable": false,
    "editable": false,
    "nbgrader": {
     "cell_type": "markdown",
     "checksum": "4df557ad28174a618af9f726e4540b83",
     "grade": false,
     "grade_id": "cell-08c497a7a86f3461",
     "locked": true,
     "schema_version": 3,
     "solution": false,
     "task": false
    }
   },
   "source": [
    "Please **submit this Jupyter notebook through Canvas** no later than **Monday November 23 12:59**, before the start of the lecture.\n",
    "\n",
    "Homework is in **groups of two**, and you are expected to hand in original work. Work that is copied from another group will not be accepted."
   ]
  },
  {
   "cell_type": "markdown",
   "metadata": {
    "deletable": false,
    "editable": false,
    "nbgrader": {
     "cell_type": "markdown",
     "checksum": "18cb508a2f7cf4b39f1f84cc77038b54",
     "grade": false,
     "grade_id": "cell-98acc141543bb30d",
     "locked": true,
     "schema_version": 3,
     "solution": false,
     "task": false
    }
   },
   "source": [
    "# Exercise 0\n",
    "Write down the names + student ID of the people in your group."
   ]
  },
  {
   "cell_type": "markdown",
   "metadata": {
    "deletable": false,
    "nbgrader": {
     "cell_type": "markdown",
     "checksum": "0ddb7fc269415d6fba569c0b98128fa6",
     "grade": true,
     "grade_id": "cell-ccf233138bb8e912",
     "locked": false,
     "points": 0,
     "schema_version": 3,
     "solution": true,
     "task": false
    }
   },
   "source": [
    "Daniël Vink - 10675140 \\\n",
    "Sam Kuilboer - 12442690"
   ]
  },
  {
   "cell_type": "code",
   "execution_count": 1,
   "metadata": {
    "deletable": false,
    "editable": false,
    "nbgrader": {
     "cell_type": "code",
     "checksum": "6bac44a5cf68c5f713be98c815a00afd",
     "grade": false,
     "grade_id": "cell-c8276f063a1af795",
     "locked": true,
     "schema_version": 3,
     "solution": false,
     "task": false
    }
   },
   "outputs": [],
   "source": [
    "# Evaluate this cell to import necessary packages\n",
    "import numpy as np\n",
    "import matplotlib.pyplot as plt\n",
    "import math"
   ]
  },
  {
   "cell_type": "markdown",
   "metadata": {
    "deletable": false,
    "editable": false,
    "nbgrader": {
     "cell_type": "markdown",
     "checksum": "11264bab706af3653a6485666327d7dc",
     "grade": false,
     "grade_id": "cell-6eba62a7cb421695",
     "locked": true,
     "schema_version": 3,
     "solution": false,
     "task": false
    }
   },
   "source": [
    "# Sparse matrices\n",
    "A _sparse matrix_ or _sparse array_ is a matrix in which most of the elements are zero. There is no strict definition how many elements need to be zero for a matrix to be considered sparse but a common criterion is that the number of non-zero elements is roughly the number of rows or columns. By contrast, if most of the elements are nonzero, then the matrix is considered _dense_. \n",
    "\n",
    "In the context of software for scientific computing, a sparse matrix typically refers to a storage format, in which elements which are known to be zero are not stored. In Python, the library `scipy.sparse` defines several sparse matrix classes, such as `scipy.sparse.coo_matrix`. To construct such an object, one passes for each nonzero element the value, and the row and column coordinates. In some cases, one can also just pass the nonzero (off-)diagonals, see `scipy.sparse.diags`.\n",
    "\n",
    "Functions for dense matrices do not always work with sparse matrices. For example for the product of a sparse matrix with a (dense) vector, there is the member function `scipy.sparse.coo_matrix.dot`, and for solving linear equations involving a sparse matrix, there is the function `scipy.sparse.linalg.spsolve`."
   ]
  },
  {
   "cell_type": "code",
   "execution_count": 2,
   "metadata": {},
   "outputs": [
    {
     "name": "stdout",
     "output_type": "stream",
     "text": [
      "When printing a sparse matrix, it shows its nonzero entries:\n",
      "  (0, 0)\t4.0\n",
      "  (3, 3)\t5.0\n",
      "  (1, 1)\t7.0\n",
      "  (0, 2)\t9.0\n",
      "If you want to see its `dense` matrix form, you have to use `mat.toarray()`:\n",
      "[[4. 0. 9. 0.]\n",
      " [0. 7. 0. 0.]\n",
      " [0. 0. 0. 0.]\n",
      " [0. 0. 0. 5.]]\n",
      "For x=[1 2 3 4], Mx = [31. 14.  0. 20.]\n"
     ]
    }
   ],
   "source": [
    "from scipy.sparse import coo_matrix\n",
    "\n",
    "# This is how to create a sparse matrix from a given list of (row, column, value) tuples.\n",
    "row  = [0,   3,   1,   0]\n",
    "col  = [0,   3,   1,   2]\n",
    "data = [4.0, 5.0, 7.0, 9.0]\n",
    "M = coo_matrix((data, (row, col)), shape=(4, 4))\n",
    "\n",
    "print(\"When printing a sparse matrix, it shows its nonzero entries:\")\n",
    "print(M)\n",
    "\n",
    "print(\"If you want to see its `dense` matrix form, you have to use `mat.toarray()`:\")\n",
    "print(M.toarray())\n",
    "\n",
    "# This is how to perform matrix-vector products.\n",
    "x = np.array([1, 2, 3, 4])\n",
    "print(\"For x={}, Mx = {}\".format(x, M.dot(x)))"
   ]
  },
  {
   "cell_type": "code",
   "execution_count": 3,
   "metadata": {},
   "outputs": [
    {
     "name": "stdout",
     "output_type": "stream",
     "text": [
      "This matrix has values on its diagonal and on offdiagonals 1 and 2 rows ABOVE it.\n",
      "[[1. 1. 1. 0.]\n",
      " [0. 2. 2. 2.]\n",
      " [0. 0. 3. 3.]\n",
      " [0. 0. 0. 4.]]\n",
      "This matrix has values on its diagonal and on offdiagonals 1 and 2 rows BELOW it.\n",
      "[[1. 0. 0. 0.]\n",
      " [1. 2. 0. 0.]\n",
      " [1. 2. 3. 0.]\n",
      " [0. 2. 3. 4.]]\n",
      "If you want to visualize the matrix for yourself, use `plt.imshow`:\n"
     ]
    },
    {
     "data": {
      "image/png": "[encoded data removed]",
      "text/plain": [
       "<Figure size 432x288 with 2 Axes>"
      ]
     },
     "metadata": {
      "needs_background": "light"
     },
     "output_type": "display_data"
    },
    {
     "name": "stdout",
     "output_type": "stream",
     "text": [
      "For b=[1 2 3 4], the solution x to Mx=b is [1.         0.5        0.33333333 0.5       ]\n",
      "And indeed, Mx - b = [0. 0. 0. 0.]\n"
     ]
    }
   ],
   "source": [
    "from scipy.sparse import diags, SparseEfficiencyWarning\n",
    "from scipy.sparse.linalg import spsolve\n",
    "import warnings\n",
    "warnings.simplefilter('ignore', SparseEfficiencyWarning)  # Suppress confusing warning\n",
    "\n",
    "# This is how to create a sparse matrix from a given list of subdiagonals.\n",
    "diagonals = [[1, 2, 3, 4], [1, 2, 3], [1, 2]]\n",
    "M = diags(diagonals, [0, 1, 2])\n",
    "print(\"This matrix has values on its diagonal and on offdiagonals 1 and 2 rows ABOVE it.\")\n",
    "print(M.toarray())\n",
    "\n",
    "M = diags(diagonals, [0, -1, -2])\n",
    "print(\"This matrix has values on its diagonal and on offdiagonals 1 and 2 rows BELOW it.\")\n",
    "print(M.toarray())\n",
    "\n",
    "print(\"If you want to visualize the matrix for yourself, use `plt.imshow`:\")\n",
    "plt.imshow(M.toarray())\n",
    "plt.colorbar()\n",
    "plt.show()\n",
    "\n",
    "# This is how to solve sparse systems.\n",
    "b = np.array([1, 2, 3, 4])\n",
    "x = spsolve(M, b)\n",
    "print(\"For b={}, the solution x to Mx=b is {}\".format(b, x))\n",
    "print(\"And indeed, Mx - b = {}\".format(M.dot(x) - b))"
   ]
  },
  {
   "cell_type": "markdown",
   "metadata": {
    "deletable": false,
    "editable": false,
    "nbgrader": {
     "cell_type": "markdown",
     "checksum": "3dc2d12a81fc8a848811fbda79d6a0e2",
     "grade": false,
     "grade_id": "cell-8b89ecb36f584411",
     "locked": true,
     "schema_version": 3,
     "solution": false,
     "task": false
    }
   },
   "source": [
    "--------\n",
    "# Exercise 1\n",
    "Consider the following boundary value problem involving a nonlinear ordinary differential equation:\n",
    "\n",
    "$$ \\tag{1} y''(x) + \\exp(y(x)) = 0, \\quad 0 < x < 1, \\quad y(0) = y(1) = 0.$$\n",
    "\n",
    "The purpose of this exercise is to approximate the solution to this boundary value problem, by discretizing the problem and then solving the resulting system of nonlinear equations. "
   ]
  },
  {
   "cell_type": "markdown",
   "metadata": {
    "deletable": false,
    "editable": false,
    "nbgrader": {
     "cell_type": "markdown",
     "checksum": "4e46d45e2e32295012a06f2b9d755065",
     "grade": false,
     "grade_id": "cell-5aec7cf5770da0f2",
     "locked": true,
     "schema_version": 3,
     "solution": false,
     "task": false
    }
   },
   "source": [
    "Problem (1) will be discretized using finite differences. Suppose we use $n+2$ discretization points for $x$, denoted $x_k = kh$ for $k \\in \\{0, \\ldots, n+1\\}$ and $h = 1/(n+1)$. The approximate solution is denoted $y_k = y(x_k)$. \n",
    "\n",
    "We will use a _second-order central finite difference_ approximation for the second derivative: \n",
    "\n",
    "$$ \\tag{2} y''(x_k) \\approx \\frac{y_{k-1} - 2 y_k + y_{k+1}}{h^2}.$$\n",
    "\n",
    "The term $\\exp(y(x_k))$ can simply be approximated by $\\exp(y_k)$. Thus for $x=x_k$, equation (1) becomes\n",
    "\n",
    "$$ \\tag{3} \\frac{y_{k-1} - 2 y_k + y_{k+1}}{h^2} + \\exp y_k = 0, \\quad k = 1, \\ldots, n.$$\n",
    "\n",
    "The boundary conditions (the conditions $y(0) = y(1) = 1$), lead to the requirement that $y_0 = y_{n+1} = 0$. To find the remaining values $y_k$, $k=1, \\ldots, n$, equation (3) will be used for $k = 1, \\ldots, n$. In this way, one obtains $n$ equations for $n$ unknowns, to which, in principle, a rootfinding method can be applied.\n",
    "\n",
    "We will write $\\vec y = \\begin{bmatrix} y_1 \\\\ \\vdots \\\\ y_n \\end{bmatrix}$ for the vector of values to be determined. \n"
   ]
  },
  {
   "cell_type": "markdown",
   "metadata": {
    "deletable": false,
    "editable": false,
    "nbgrader": {
     "cell_type": "markdown",
     "checksum": "189935d3bdaedbdc19f1bd51cc1514ab",
     "grade": false,
     "grade_id": "cell-0ff3f6bee1fe1468",
     "locked": true,
     "schema_version": 3,
     "solution": false,
     "task": false
    }
   },
   "source": [
    "## (a) -- 2 points\n",
    "As a first step, finish the function `SecondDerMatrix` that returns a matrix $\\bf{M}$ that maps the vector $\\vec y$ to the vector of the approximate values $y''(x_k)$, $k=1, \\ldots, n$ given in (2). To get full points for this part of the exercise you must create output in the form of a sparse matrix."
   ]
  },
  {
   "cell_type": "code",
   "execution_count": 4,
   "metadata": {
    "deletable": false,
    "nbgrader": {
     "cell_type": "code",
     "checksum": "375341edfdca1c3f6868a8490383fb0d",
     "grade": true,
     "grade_id": "cell-9e0733e191b315a4",
     "locked": false,
     "points": 2,
     "schema_version": 3,
     "solution": true,
     "task": false
    }
   },
   "outputs": [
    {
     "name": "stdout",
     "output_type": "stream",
     "text": [
      "Dense matrix:\n",
      "[[-32.  16.   0.]\n",
      " [ 16. -32.  16.]\n",
      " [  0.  16. -32.]]\n",
      "\n",
      "\n",
      "Sparse matrix:\n",
      "  (1, 0)\t16.0\n",
      "  (2, 1)\t16.0\n",
      "  (0, 0)\t-32.0\n",
      "  (1, 1)\t-32.0\n",
      "  (2, 2)\t-32.0\n",
      "  (0, 1)\t16.0\n",
      "  (1, 2)\t16.0\n",
      "\n",
      "\n",
      "Product:\n",
      "[1 2 3] * [-0.15625 -0.25    -0.21875] = [1. 2. 3.] - [1 2 3]\n",
      "[0. 0. 0.]\n"
     ]
    }
   ],
   "source": [
    "from scipy.sparse import coo_matrix\n",
    "\n",
    "''' We can rewrite the requested matrix as a system of equations of the form eq.(2):\n",
    "    (1*yk-1 - 2*yk + 1*yk+1) / h^2 = y''k\n",
    "    In matrix form, this can be seen as -2/h^2 on the main diagonal, and 1/h^2 on the diagonals directly\n",
    "    above and below. Because we know y0 = yn+1 = 0, we can leave these out of the of the equation entirely.\n",
    "'''\n",
    "\n",
    "def SecondDerMatrix(n):\n",
    "    ''' Returns the matrix M_n that maps a vector y of length n to their approximated values.\n",
    "    \n",
    "    These approximated values are a second-order central finite difference approximation of the second derivative.\n",
    "    The matrix consists of a -2 coefficient main diagonal, and a 1 sub diagonal directly above and below the main\n",
    "    diagonal. The coeffecients are multiplied by h^2, where h = 1/(n+1).\n",
    "    '''\n",
    "    h2 = (1 / (n+1))**2\n",
    "    \n",
    "    main_diag = [-2/h2]*n\n",
    "    sub_diag  = [1/h2] *(n-1)# First sub diagonal pf a nxn matrix is size n-1\n",
    "#     main_diag = [-2]*n\n",
    "#     sub_diag  = [1]   *(n-1)\n",
    "    diagonals = [sub_diag, main_diag, sub_diag]\n",
    "    \n",
    "    M = diags(diagonals, [-1, 0, 1])\n",
    "    return M\n",
    "\n",
    "M3 = SecondDerMatrix(3)\n",
    "b = np.array([1, 2, 3])\n",
    "x = spsolve(M3, b)\n",
    "\n",
    "print('Dense matrix:')\n",
    "print(M3.toarray())\n",
    "print('\\n')\n",
    "\n",
    "print('Sparse matrix:')\n",
    "print(M3)\n",
    "print('\\n')\n",
    "\n",
    "print('Product:')\n",
    "print(f\"{b} * {x} = {M3.dot(x)} - {b}\")\n",
    "print(M3.dot(x) - b)"
   ]
  },
  {
   "cell_type": "markdown",
   "metadata": {
    "deletable": false,
    "editable": false,
    "nbgrader": {
     "cell_type": "markdown",
     "checksum": "40ac1c07025e88bb2bf53e8b79e6f037",
     "grade": false,
     "grade_id": "cell-ad2bd1424fe88df2",
     "locked": true,
     "schema_version": 3,
     "solution": false,
     "task": false
    }
   },
   "source": [
    "## (b) -- 1 point\n",
    "Second-order central finite differences are exact for quadratic functions. In order to test your implementation, choose $n=10$ and apply the second derivative matrix from part (a) to a quadratic function $y(x)$ with $y(0) = y(1) = 0$ for which you know the second derivative $y''(x)$."
   ]
  },
  {
   "cell_type": "code",
   "execution_count": 5,
   "metadata": {
    "deletable": false,
    "nbgrader": {
     "cell_type": "code",
     "checksum": "b254d24b03b6f103627a82912d2547b2",
     "grade": true,
     "grade_id": "cell-7c63d2bb91a3a7cd",
     "locked": false,
     "points": 1,
     "schema_version": 3,
     "solution": true,
     "task": false
    }
   },
   "outputs": [
    {
     "name": "stdout",
     "output_type": "stream",
     "text": [
      "\n",
      "For a quadratic function that has values in a range between [0 < x < 1] we decided on a simple \n",
      "inverted hyperbola which passes through the x-axis twice at x=0 and x=1. This means its \"peak\" will\n",
      "be positive numbers for the range between 0 and 1. The inverted hyperbola will have to be shifted\n",
      "to the right and upwards with respect to the origin. The function thus has the form:\n",
      "\n",
      "f(x) = -(x-0.5)^2 + 0.5\n",
      "which can be rewritten as:\n",
      "f(x) = -x^2 + x\n",
      "\n",
      "For which the second derivative f''(x) can be derived as:\n",
      "f'(x) = -2x + 1\n",
      "f''(x) = -2\n",
      "\n",
      "\n",
      "Function test for the peak and intersection points with the x-axis:  [0.   0.25 0.  ] \n",
      "\n",
      " Y-vector: [0.1875 0.25   0.1875]\n",
      "Approximated (exact) solution to My = y2:  [-2. -2. -2.]\n"
     ]
    }
   ],
   "source": [
    "print('''\n",
    "For a quadratic function that has values in a range between [0 < x < 1] we decided on a simple \n",
    "inverted hyperbola which passes through the x-axis twice at x=0 and x=1. This means its \"peak\" will\n",
    "be positive numbers for the range between 0 and 1. The inverted hyperbola will have to be shifted\n",
    "to the right and upwards with respect to the origin. The function thus has the form:\n",
    "\n",
    "f(x) = -(x-0.5)^2 + 0.5\n",
    "which can be rewritten as:\n",
    "f(x) = -x^2 + x\n",
    "\n",
    "For which the second derivative f''(x) can be derived as:\n",
    "f'(x) = -2x + 1\n",
    "f''(x) = -2\n",
    "\n",
    "''')\n",
    "\n",
    "def our_hyperbola(x):\n",
    "    y = -(x**2) + x\n",
    "    return y\n",
    "\n",
    "print('Function test for the peak and intersection points with the x-axis: ', \n",
    "      our_hyperbola(np.array([0, 0.5, 1])), '\\n')\n",
    "\n",
    "M10 = SecondDerMatrix(10)\n",
    "x = np.linspace(0, 1, 12)[1:-1] # X divided in n+2 sections, cut off 0 and 1.\n",
    "y = our_hyperbola(x)\n",
    "\n",
    "print(' Y-vector:', y)\n",
    "print('Approximated (exact) solution to My = y2: ', M10.dot(y))\n"
   ]
  },
  {
   "cell_type": "markdown",
   "metadata": {
    "deletable": false,
    "editable": false,
    "nbgrader": {
     "cell_type": "markdown",
     "checksum": "47f9704469bf9fe325635d9d9e9e8e98",
     "grade": false,
     "grade_id": "cell-6a9db0454b25e6c0",
     "locked": true,
     "schema_version": 3,
     "solution": false,
     "task": false
    }
   },
   "source": [
    "## (c) -- 2 points\n",
    "\n",
    "\n",
    "Defining $\\vec y = \\begin{bmatrix} y_1 \\\\ \\vdots \\\\ y_n \\end{bmatrix}$ and \n",
    "$E(\\vec y) = \\begin{bmatrix} \\exp(y_1) \\\\ \\vdots \\\\ \\exp(y_n) \\end{bmatrix}$, the equations (3) can be written in the form\n",
    "\n",
    "$$ F(\\vec y) := {\\bf M} \\cdot \\vec y + E(\\vec y) = \\vec 0. $$\n",
    "\n",
    "Finish the function `F` that defines $F(\\vec y) = {\\bf M} \\cdot \\vec y + E(\\vec y)$.\n",
    "Finish the function `JacobianF` that computes the Jacobian ${\\bf J}_F(\\vec y)$ of $F(\\vec y)$.\n",
    "To get full points for this part of the exercise, the Jacobian must be computed in the form of a sparse matrix."
   ]
  },
  {
   "cell_type": "code",
   "execution_count": 6,
   "metadata": {
    "deletable": false,
    "nbgrader": {
     "cell_type": "code",
     "checksum": "14ccab984a2311bdd95071739b86903b",
     "grade": true,
     "grade_id": "cell-d421a544453be84a",
     "locked": false,
     "points": 2,
     "schema_version": 3,
     "solution": true,
     "task": false
    }
   },
   "outputs": [
    {
     "name": "stdout",
     "output_type": "stream",
     "text": [
      "Vector Y:\n",
      "[0.1875 0.25   0.1875]\n",
      "\n",
      "\n",
      "F(y):\n",
      "[-0.79376975 -0.71597458 -0.79376975]\n",
      "\n",
      "\n",
      "Jacobian full matrix:\n",
      "[[-30.79376955  15.9999999    0.        ]\n",
      " [ 15.9999999  -30.71597439  15.9999999 ]\n",
      " [  0.          15.9999999  -30.79376955]]\n",
      "Jacobian sparse matrix:\n",
      "  (0, 0)\t-30.793769549101548\n",
      "  (0, 1)\t15.999999902760464\n",
      "  (1, 0)\t15.999999902760463\n",
      "  (1, 1)\t-30.71597438619733\n",
      "  (1, 2)\t15.999999902760463\n",
      "  (2, 1)\t15.999999902760464\n",
      "  (2, 2)\t-30.793769549101548\n"
     ]
    }
   ],
   "source": [
    "dy = 10**(-8)\n",
    "\n",
    "def F(y):\n",
    "    \n",
    "    M = SecondDerMatrix(len(y))\n",
    "    E = [math.exp(_) for _ in y]\n",
    "    F = M * y + E\n",
    "    \n",
    "    return F\n",
    "    \n",
    "def JacobianF(y):\n",
    "    \n",
    "    length_vector = len(y)\n",
    "    function = F(y)\n",
    "    jacobian = np.zeros((length_vector, length_vector))\n",
    "    \n",
    "    for j in range(length_vector):\n",
    "        Dyj = (abs(y[j])*dy if y[j] != 0 else dy)\n",
    "        y_plus = [(yi if k != j else yi + Dyj) for k, yi in enumerate(y)]\n",
    "        jacobian[:, j] = (F(y_plus) - function)/Dyj\n",
    "        \n",
    "    return coo_matrix(jacobian)\n",
    "\n",
    "print('Vector Y:')\n",
    "print(y)\n",
    "print('\\n')\n",
    "\n",
    "print('F(y):')\n",
    "print(F(y))\n",
    "print('\\n')\n",
    "\n",
    "print('Jacobian full matrix:')\n",
    "print(JacobianF(y).toarray())\n",
    "print('Jacobian sparse matrix:')\n",
    "print(JacobianF(y))   \n"
   ]
  },
  {
   "cell_type": "code",
   "execution_count": 7,
   "metadata": {},
   "outputs": [
    {
     "data": {
      "text/plain": [
       "1.2062302494209807"
      ]
     },
     "execution_count": 7,
     "metadata": {},
     "output_type": "execute_result"
    }
   ],
   "source": [
    "-2+math.exp(0.1875)\n",
    "math.exp(0.1875)"
   ]
  },
  {
   "cell_type": "markdown",
   "metadata": {
    "deletable": false,
    "editable": false,
    "nbgrader": {
     "cell_type": "markdown",
     "checksum": "0e7200a7faff04e915293a9eaa38a10c",
     "grade": false,
     "grade_id": "cell-7d1a3da05c6d0f98",
     "locked": true,
     "schema_version": 3,
     "solution": false,
     "task": false
    }
   },
   "source": [
    "## (d) -- 3 points\n",
    "1. Write down the first order Taylor expansion $T_F(\\vec y, \\vec s)$ for $F(\\vec y+\\vec s)$.\n",
    "2. In order to check your implementation of the Jacobian matrix, compute and print both $F(\\vec y+\\vec s)$ and its first order Taylor approximation $T_F(\\vec y, \\vec s)$ for a choice $\\vec y$ and $\\vec s$.\n",
    "3. Verify numerically that the error $||F(\\vec y + \\vec s) - T_F(\\vec y, \\vec s)||_2$ is $\\mathcal O(||\\vec s||_2^2)$. Hint: take vectors $\\vec s$ with $\\|\\vec s\\|_2 = \\mathcal O(h)$  for multiple values for $h$, e.g. $h = 10^{-k}$ for a range of $k$. "
   ]
  },
  {
   "cell_type": "markdown",
   "metadata": {
    "deletable": false,
    "nbgrader": {
     "cell_type": "markdown",
     "checksum": "f670080f1b2b63e93841d5edb1530ad0",
     "grade": true,
     "grade_id": "cell-f1329a5a81b81ed4",
     "locked": false,
     "points": 1,
     "schema_version": 3,
     "solution": true,
     "task": false
    }
   },
   "source": [
    "Subquestion 1.\n",
    "\n",
    "YOUR ANSWER HERE"
   ]
  },
  {
   "cell_type": "code",
   "execution_count": 8,
   "metadata": {
    "deletable": false,
    "nbgrader": {
     "cell_type": "code",
     "checksum": "4dbcf2f1fa559ab2eb68bae559ca1f2f",
     "grade": true,
     "grade_id": "cell-68d75893db87ddc0",
     "locked": false,
     "points": 2,
     "schema_version": 3,
     "solution": true,
     "task": false
    }
   },
   "outputs": [
    {
     "ename": "NotImplementedError",
     "evalue": "",
     "output_type": "error",
     "traceback": [
      "\u001b[1;31m---------------------------------------------------------------------------\u001b[0m",
      "\u001b[1;31mNotImplementedError\u001b[0m                       Traceback (most recent call last)",
      "\u001b[1;32m<ipython-input-8-6281a4848cfd>\u001b[0m in \u001b[0;36m<module>\u001b[1;34m\u001b[0m\n\u001b[0;32m      2\u001b[0m \u001b[1;33m\u001b[0m\u001b[0m\n\u001b[0;32m      3\u001b[0m \u001b[1;31m# YOUR CODE HERE\u001b[0m\u001b[1;33m\u001b[0m\u001b[1;33m\u001b[0m\u001b[1;33m\u001b[0m\u001b[0m\n\u001b[1;32m----> 4\u001b[1;33m \u001b[1;32mraise\u001b[0m \u001b[0mNotImplementedError\u001b[0m\u001b[1;33m(\u001b[0m\u001b[1;33m)\u001b[0m\u001b[1;33m\u001b[0m\u001b[1;33m\u001b[0m\u001b[0m\n\u001b[0m",
      "\u001b[1;31mNotImplementedError\u001b[0m: "
     ]
    }
   ],
   "source": [
    "# Subquestions 2 and 3.\n",
    "\n",
    "# YOUR CODE HERE\n",
    "raise NotImplementedError()"
   ]
  },
  {
   "cell_type": "markdown",
   "metadata": {
    "deletable": false,
    "editable": false,
    "nbgrader": {
     "cell_type": "markdown",
     "checksum": "76f21352868438c33be0ca904716a031",
     "grade": false,
     "grade_id": "cell-b1aa67d6ea92b4c7",
     "locked": true,
     "schema_version": 3,
     "solution": false,
     "task": false
    }
   },
   "source": [
    "## (e) -- 2 points\n",
    "1. Finish the function `NewtonSolve` below to solve the system of equations.\n",
    "2. Take $n=40$, and experiment with your function. Try to find a choice of `y0` such that the method doesn't converge, as well as a choice of `y0` such that the method converges. In your answer, list the types of convergence behavior you found. Show a convergent example (if you found any) and a nonconvergent example (if you found any). Show the solutions you found for each example.\n"
   ]
  },
  {
   "cell_type": "code",
   "execution_count": 24,
   "metadata": {
    "deletable": false,
    "nbgrader": {
     "cell_type": "code",
     "checksum": "b09e388e90f8e8771543849029648b9b",
     "grade": true,
     "grade_id": "cell-033ee536f11decb8",
     "locked": false,
     "points": 1,
     "schema_version": 3,
     "solution": true,
     "task": false
    }
   },
   "outputs": [
    {
     "name": "stdout",
     "output_type": "stream",
     "text": [
      "Netwonsole is used to find F(y) = 0. To check whether we succeeded, the vector is tested:\n",
      "[ 0.0000000e+00 -4.4408921e-16  0.0000000e+00]\n"
     ]
    },
    {
     "data": {
      "image/png": "[encoded data removed]",
      "text/plain": [
       "<Figure size 432x288 with 1 Axes>"
      ]
     },
     "metadata": {
      "needs_background": "light"
     },
     "output_type": "display_data"
    }
   ],
   "source": [
    "# Subquestion 1.\n",
    "def NewtonSolve(y0, K):\n",
    "    \"\"\" Use Newton's method to solve F(y) = 0 with initial guess y0 and K iterations. \"\"\"\n",
    "    y = y0\n",
    "    \n",
    "    convergence = []\n",
    "    \n",
    "    for iter in range(K):\n",
    "#         next iter = y - Jacob inverse * F  \n",
    "        convergence.append(y)\n",
    "        y = y - np.linalg.inv(JacobianF(y).toarray()).dot(F(y))\n",
    "    \n",
    "    plt.plot(convergence)\n",
    "    return y\n",
    "\n",
    "y0 = np.array([0,0,0])\n",
    "answer = NewtonSolve(y0, 40)\n",
    "\n",
    "\n",
    "print('Netwonsolve is used to find F(y) = 0. To check whether we succeeded, the vector is tested:')\n",
    "doesitwork = F(answer)\n",
    "print(doesitwork)\n",
    "\n"
   ]
  },
  {
   "cell_type": "code",
   "execution_count": 30,
   "metadata": {
    "deletable": false,
    "nbgrader": {
     "cell_type": "code",
     "checksum": "32666429312b4fed93adbb74fe0a8951",
     "grade": true,
     "grade_id": "cell-ad7022706ca4f890",
     "locked": false,
     "points": 1,
     "schema_version": 3,
     "solution": true,
     "task": false
    }
   },
   "outputs": [
    {
     "name": "stdout",
     "output_type": "stream",
     "text": [
      "[0.01375655 0.02684654 0.03926117 0.05099201 0.06203099 0.07237044\n",
      " 0.08200309 0.09092208 0.09912103 0.10659401 0.11333558 0.11934078\n",
      " 0.12460519 0.12912489 0.13289651 0.13591721 0.13818474 0.13969738\n",
      " 0.14045398 0.14045398 0.13969738 0.13818474 0.13591721 0.13289651\n",
      " 0.12912489 0.12460519 0.11934078 0.11333558 0.10659401 0.09912103\n",
      " 0.09092208 0.08200309 0.07237044 0.06203099 0.05099201 0.03926117\n",
      " 0.02684654 0.01375655]\n",
      "Netwonsolve is used to find F(y) = 0. To check whether we succeeded, the vector is tested:\n",
      "[ 5.99520433e-15 -1.48769885e-14  5.99520433e-15  1.19904087e-14\n",
      " -1.77635684e-14  1.77635684e-14  1.66533454e-14 -7.28306304e-14\n",
      "  4.10782519e-14 -3.10862447e-14  7.32747196e-15  1.97619698e-14\n",
      "  8.43769499e-15 -4.37427872e-14  5.66213743e-14 -1.79856130e-14\n",
      " -2.66453526e-15 -5.10702591e-15 -4.66293670e-15 -4.66293670e-15\n",
      " -5.10702591e-15 -2.66453526e-15  3.88578059e-14 -2.86437540e-14\n",
      "  1.31006317e-14  8.43769499e-15 -3.68594044e-14  7.32747196e-15\n",
      "  2.57571742e-14 -1.57651669e-14 -1.77635684e-15  1.66533454e-14\n",
      " -1.06581410e-14 -3.55271368e-15  4.88498131e-15 -1.11022302e-15\n",
      " -6.66133815e-16 -1.11022302e-15]\n"
     ]
    },
    {
     "data": {
      "image/png": "[encoded data removed]",
      "text/plain": [
       "<Figure size 432x288 with 1 Axes>"
      ]
     },
     "metadata": {
      "needs_background": "light"
     },
     "output_type": "display_data"
    }
   ],
   "source": [
    "# Subquestion 2, code part\n",
    "# YOUR CODE HERE\n",
    "M40 = SecondDerMatrix(40)\n",
    "x40 = np.linspace(0, 1, 40)[1:-1] # X divided in n+2 sections, cut off 0 and 1.\n",
    "y40 = our_hyperbola(x40)\n",
    "y0 = np.zeros(len(y40))\n",
    "\n",
    "answer = NewtonSolve(y0, K=40)\n",
    "print(answer)\n",
    "\n",
    "print('Netwonsolve is used to find F(y) = 0. To check whether we succeeded, the vector is tested:')\n",
    "doesitwork = F(answer)\n",
    "print(doesitwork)"
   ]
  },
  {
   "cell_type": "markdown",
   "metadata": {
    "deletable": false,
    "nbgrader": {
     "cell_type": "markdown",
     "checksum": "6690d829141b106ddefae5bd0810144e",
     "grade": true,
     "grade_id": "cell-d250931443b05cf6",
     "locked": false,
     "points": 0,
     "schema_version": 3,
     "solution": true,
     "task": false
    }
   },
   "source": [
    "Subquestion 2, text part\n",
    "YOUR ANSWER HERE"
   ]
  }
 ],
 "metadata": {
  "kernelspec": {
   "display_name": "Python 3",
   "language": "python",
   "name": "python3"
  },
  "language_info": {
   "codemirror_mode": {
    "name": "ipython",
    "version": 3
   },
   "file_extension": ".py",
   "mimetype": "text/x-python",
   "name": "python",
   "nbconvert_exporter": "python",
   "pygments_lexer": "ipython3",
   "version": "3.8.3"
  }
 },
 "nbformat": 4,
 "nbformat_minor": 2
}
